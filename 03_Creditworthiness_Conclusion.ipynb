{
 "cells": [
  {
   "cell_type": "markdown",
   "metadata": {},
   "source": [
    "# Project: Creditworthiness (Part3)\n",
    "\n",
    "### by Sooyeon Won\n",
    "### Keywords\n",
    "- Analytical Framework \n",
    "- Application of Selected Classification Model"
   ]
  },
  {
   "cell_type": "markdown",
   "metadata": {},
   "source": [
    "## Conclusion\n",
    "\n",
    "> In the previous part of analysis, we evaluated that **Random Forest Model** is the most suitable for predicting the creditworthiness of credit applicants. Now, I will apply the classification model to predict the creditworthiness of **new** credit applicants in this bank. "
   ]
  },
  {
   "cell_type": "code",
   "execution_count": 1,
   "metadata": {},
   "outputs": [],
   "source": [
    "# Import the relevant libraries \n",
    "import pandas as pd \n",
    "import numpy as np \n",
    "import statsmodels.api as sm \n",
    "import matplotlib.pyplot as plt \n",
    "from sklearn.linear_model import LinearRegression \n",
    "import seaborn as sns \n",
    "sns.set()\n",
    "\n",
    "import pickle"
   ]
  },
  {
   "cell_type": "code",
   "execution_count": 2,
   "metadata": {},
   "outputs": [],
   "source": [
    "forest = pickle.load(open('model_rf.pickle','rb')) # Recall the Random Forest Model using pickle library"
   ]
  },
  {
   "cell_type": "code",
   "execution_count": 3,
   "metadata": {},
   "outputs": [
    {
     "name": "stdout",
     "output_type": "stream",
     "text": [
      "<class 'pandas.core.frame.DataFrame'>\n",
      "RangeIndex: 500 entries, 0 to 499\n",
      "Data columns (total 19 columns):\n",
      " #   Column                             Non-Null Count  Dtype \n",
      "---  ------                             --------------  ----- \n",
      " 0   Account-Balance                    500 non-null    object\n",
      " 1   Duration-of-Credit-Month           500 non-null    int64 \n",
      " 2   Payment-Status-of-Previous-Credit  500 non-null    object\n",
      " 3   Purpose                            500 non-null    object\n",
      " 4   Credit-Amount                      500 non-null    int64 \n",
      " 5   Value-Savings-Stocks               500 non-null    object\n",
      " 6   Length-of-current-employment       500 non-null    object\n",
      " 7   Instalment-per-cent                500 non-null    int64 \n",
      " 8   Guarantors                         500 non-null    object\n",
      " 9   Duration-in-Current-address        500 non-null    int64 \n",
      " 10  Most-valuable-available-asset      500 non-null    int64 \n",
      " 11  Age-years                          500 non-null    int64 \n",
      " 12  Concurrent-Credits                 500 non-null    object\n",
      " 13  Type-of-apartment                  500 non-null    int64 \n",
      " 14  No-of-Credits-at-this-Bank         500 non-null    object\n",
      " 15  Occupation                         500 non-null    int64 \n",
      " 16  No-of-dependents                   500 non-null    int64 \n",
      " 17  Telephone                          500 non-null    int64 \n",
      " 18  Foreign-Worker                     500 non-null    int64 \n",
      "dtypes: int64(11), object(8)\n",
      "memory usage: 74.3+ KB\n"
     ]
    }
   ],
   "source": [
    "new_customer_data = pd.read_excel('customers-to-score.xlsx')\n",
    "new_customer_data.info() # Columns should be modified. "
   ]
  },
  {
   "cell_type": "code",
   "execution_count": 4,
   "metadata": {},
   "outputs": [],
   "source": [
    "# (1) Change the column names with underscore\n",
    "new_customer_data.columns = new_customer_data.columns.str.replace(\"-\", \"_\")"
   ]
  },
  {
   "cell_type": "code",
   "execution_count": 5,
   "metadata": {},
   "outputs": [],
   "source": [
    "new_customer_data.Length_of_current_employment.replace('1-4 yrs', 'longer than 1 yrs employment', inplace = True)\n",
    "new_customer_data.Length_of_current_employment.replace('4-7 yrs', 'longer than 1 yrs employment', inplace = True)"
   ]
  },
  {
   "cell_type": "code",
   "execution_count": 6,
   "metadata": {},
   "outputs": [],
   "source": [
    "new_customer_data.Payment_Status_of_Previous_Credit.replace('No Problems (in this bank)', 'No Problems (in this bank) or Paid Up', inplace = True)\n",
    "new_customer_data.Payment_Status_of_Previous_Credit.replace('Paid Up', 'No Problems (in this bank) or Paid Up', inplace = True)"
   ]
  },
  {
   "cell_type": "code",
   "execution_count": 7,
   "metadata": {},
   "outputs": [],
   "source": [
    "# (3) - (6) Dropped the irrelevant or uncessary columns \n",
    "new_customer_data.drop(['Telephone'], axis = 1, inplace= True) # Irrelevant feature is dropped.\n",
    "new_customer_data.drop(['Occupation','Concurrent_Credits'], axis = 1, inplace= True) # Same value for all datapoints are removed.\n",
    "new_customer_data.drop(['Guarantors', 'Foreign_Worker','No_of_dependents'], axis = 1, inplace= True) # Columns with low variabilities are excluded.\n",
    "new_customer_data.drop(['Duration_in_Current_address'], axis = 1, inplace= True) # The field with huge percentage of missing values is dropped."
   ]
  },
  {
   "cell_type": "code",
   "execution_count": 8,
   "metadata": {},
   "outputs": [],
   "source": [
    "new_customer_mod=pd.get_dummies(new_customer_data) # Create dummy variables for each categorical variable"
   ]
  },
  {
   "cell_type": "code",
   "execution_count": 9,
   "metadata": {},
   "outputs": [],
   "source": [
    "# One dummy variable is removed from each categorical variable. \n",
    "new_customer_mod.drop([ 'Account_Balance_No Account', \n",
    "           'Payment_Status_of_Previous_Credit_No Problems (in this bank) or Paid Up',\n",
    "           'Value_Savings_Stocks_None', 'Length_of_current_employment_< 1yr', \n",
    "           'No_of_Credits_at_this_Bank_1' ], axis =1, inplace= True)"
   ]
  },
  {
   "cell_type": "code",
   "execution_count": 10,
   "metadata": {},
   "outputs": [
    {
     "name": "stdout",
     "output_type": "stream",
     "text": [
      "<class 'pandas.core.frame.DataFrame'>\n",
      "RangeIndex: 500 entries, 0 to 499\n",
      "Data columns (total 15 columns):\n",
      " #   Column                                                     Non-Null Count  Dtype\n",
      "---  ------                                                     --------------  -----\n",
      " 0   Duration_of_Credit_Month                                   500 non-null    int64\n",
      " 1   Credit_Amount                                              500 non-null    int64\n",
      " 2   Instalment_per_cent                                        500 non-null    int64\n",
      " 3   Most_valuable_available_asset                              500 non-null    int64\n",
      " 4   Age_years                                                  500 non-null    int64\n",
      " 5   Type_of_apartment                                          500 non-null    int64\n",
      " 6   Account_Balance_Some Balance                               500 non-null    uint8\n",
      " 7   Payment_Status_of_Previous_Credit_Some Problems            500 non-null    uint8\n",
      " 8   Purpose_Home Related                                       500 non-null    uint8\n",
      " 9   Purpose_New car                                            500 non-null    uint8\n",
      " 10  Purpose_Used car                                           500 non-null    uint8\n",
      " 11  Value_Savings_Stocks_< £100                                500 non-null    uint8\n",
      " 12  Value_Savings_Stocks_£100-£1000                            500 non-null    uint8\n",
      " 13  Length_of_current_employment_longer than 1 yrs employment  500 non-null    uint8\n",
      " 14  No_of_Credits_at_this_Bank_More than 1                     500 non-null    uint8\n",
      "dtypes: int64(6), uint8(9)\n",
      "memory usage: 28.0 KB\n"
     ]
    }
   ],
   "source": [
    "new_customer_mod.info()"
   ]
  },
  {
   "cell_type": "code",
   "execution_count": 11,
   "metadata": {},
   "outputs": [],
   "source": [
    "new_customer_mod['Predicted_Creditworthiness'] = forest.predict(new_customer_mod) # Predict the data"
   ]
  },
  {
   "cell_type": "code",
   "execution_count": 12,
   "metadata": {},
   "outputs": [
    {
     "data": {
      "text/plain": [
       "408"
      ]
     },
     "execution_count": 12,
     "metadata": {},
     "output_type": "execute_result"
    }
   ],
   "source": [
    "new_customer_mod['Predicted_Creditworthiness'].sum()"
   ]
  },
  {
   "cell_type": "markdown",
   "metadata": {},
   "source": [
    "> Based on this analysis using the Forest model, it turns out that **408 customers** belong to the segment 'Creditworthy’."
   ]
  }
 ],
 "metadata": {
  "kernelspec": {
   "display_name": "Python 3",
   "language": "python",
   "name": "python3"
  },
  "language_info": {
   "codemirror_mode": {
    "name": "ipython",
    "version": 3
   },
   "file_extension": ".py",
   "mimetype": "text/x-python",
   "name": "python",
   "nbconvert_exporter": "python",
   "pygments_lexer": "ipython3",
   "version": "3.7.6"
  }
 },
 "nbformat": 4,
 "nbformat_minor": 4
}
