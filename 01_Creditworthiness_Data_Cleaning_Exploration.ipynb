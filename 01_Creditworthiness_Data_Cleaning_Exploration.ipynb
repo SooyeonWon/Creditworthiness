{
 "cells": [
  {
   "cell_type": "markdown",
   "metadata": {},
   "source": [
    "# Project: Creditworthiness (Part1)\n",
    "\n",
    "### by Sooyeon Won\n",
    "### Keywords\n",
    "- Analytical Framework\n",
    "- Predictive Classification Models (Logistic Regression, Decision Tree, Random Forest, Gradient Boosting Model, AdaBoost) \n",
    "- Model Training and Validation \n",
    "- Model Comparison "
   ]
  },
  {
   "cell_type": "markdown",
   "metadata": {},
   "source": [
    "## Table of Contents\n",
    "<ul>\n",
    "<li><a href=\"#Intro\">Introduction (Part1)</a></li>\n",
    "<li><a href=\"#Preparation\">Data Preparation (Part1)</a></li>\n",
    "<li><a href=\"#Exploration\">Data Exploration (Part1)</a></li>\n",
    "<li><a href=\"#Analysis\">Data Analysis (Part2)</a></li>\n",
    "<li><a href=\"#Conclusion\">Conclusion (Part2)</a></li>\n",
    "</ul>"
   ]
  },
  {
   "cell_type": "markdown",
   "metadata": {},
   "source": [
    "<a id='Intro'></a>\n",
    "## Introduction"
   ]
  },
  {
   "cell_type": "markdown",
   "metadata": {},
   "source": [
    "It is the project of **Classification Models** from [Predictive Analytics for Business Nanodegree in Udacity](https://www.udacity.com/course/predictive-analytics-for-business-nanodegree--nd008). Classification algorithms are used to predict the probability of a categorical dependent variable(a.k.a. target variable). It is a powerful tool for business analysis. For this project, I approached the business issues using binary and non-binary classification models such as **Logistic Regression, Decision Tree, Random Forest, Boosted Model**. Based on the model comparisons, I investigate the optimal business insights. The business problem is as follows. "
   ]
  },
  {
   "cell_type": "markdown",
   "metadata": {},
   "source": [
    "> At a small bank, I am tasked with determining if customers are creditworthy to give a loan to. Typically, my team gets 200 loan applications per week and approves them by hand. Due to a financial scandal that hit a competitive bank last week, the team suddenly have an influx of new people applying for loans for your bank instead of the other bank in your city. All of a sudden the team has nearly 500 loan applications to process this week. My task is to systematically evaluate the creditworthiness of these new loan applicants using classification modelling. <br>\n",
    "For this project, I analyse the business problem using the Problem Solving Framework and provide a list of creditworthy customers to the manager. The provided dataset contains the following information to work with:<br>\n",
    "- Data on all past applications\n",
    "- The list of customers that need to be processed in the next few days \n"
   ]
  },
  {
   "cell_type": "markdown",
   "metadata": {},
   "source": [
    "The analysis is separated into three parts. \n",
    "1. The first part of the analysis (Filename: 01_Creditworthiness_Data_Cleaning_Exploration.ipynb) contains the process of **Data Cleaning** and **Data Exploration with appropriate visualizations**. At the end of the Part1, I select the features associated with the creditworthiness of customers, which is the target variable of the analysis. \n",
    "2. In the second part of the analysis (Filename: 02_Creditworthiness_Data_Analysis.ipynb), I trained the dataset with different classification models: Logistic Regression, Decision Tree, Random Forest, and Boosted Model. Then they are validated with the test dataset. Furthermore, I compare the performances of the four algorithms. Based on the model with best performance, I made a conclusion for the business problem. "
   ]
  },
  {
   "cell_type": "markdown",
   "metadata": {},
   "source": [
    "<a id='Preparation'></a>\n",
    "## Data Preparation"
   ]
  },
  {
   "cell_type": "markdown",
   "metadata": {},
   "source": [
    "### - Data Assessment & Cleaning"
   ]
  },
  {
   "cell_type": "code",
   "execution_count": 1,
   "metadata": {},
   "outputs": [],
   "source": [
    "# Import the relevant libraries \n",
    "import pandas as pd\n",
    "import numpy as np\n",
    "from sklearn import preprocessing\n",
    "import matplotlib.pyplot as plt \n",
    "plt.rc(\"font\", size=14)\n",
    "from sklearn.linear_model import LogisticRegression\n",
    "from sklearn.model_selection import train_test_split\n",
    "import seaborn as sns\n",
    "sns.set()\n",
    "sns.set(style=\"whitegrid\", color_codes=True)"
   ]
  },
  {
   "cell_type": "code",
   "execution_count": 2,
   "metadata": {},
   "outputs": [],
   "source": [
    "# Load the data \n",
    "raw_data = pd.read_excel('credit-data-training.xlsx')"
   ]
  },
  {
   "cell_type": "code",
   "execution_count": 3,
   "metadata": {
    "scrolled": false
   },
   "outputs": [
    {
     "data": {
      "text/html": [
       "<div>\n",
       "<style scoped>\n",
       "    .dataframe tbody tr th:only-of-type {\n",
       "        vertical-align: middle;\n",
       "    }\n",
       "\n",
       "    .dataframe tbody tr th {\n",
       "        vertical-align: top;\n",
       "    }\n",
       "\n",
       "    .dataframe thead th {\n",
       "        text-align: right;\n",
       "    }\n",
       "</style>\n",
       "<table border=\"1\" class=\"dataframe\">\n",
       "  <thead>\n",
       "    <tr style=\"text-align: right;\">\n",
       "      <th></th>\n",
       "      <th>Credit-Application-Result</th>\n",
       "      <th>Account-Balance</th>\n",
       "      <th>Duration-of-Credit-Month</th>\n",
       "      <th>Payment-Status-of-Previous-Credit</th>\n",
       "      <th>Purpose</th>\n",
       "      <th>Credit-Amount</th>\n",
       "      <th>Value-Savings-Stocks</th>\n",
       "      <th>Length-of-current-employment</th>\n",
       "      <th>Instalment-per-cent</th>\n",
       "      <th>Guarantors</th>\n",
       "      <th>Duration-in-Current-address</th>\n",
       "      <th>Most-valuable-available-asset</th>\n",
       "      <th>Age-years</th>\n",
       "      <th>Concurrent-Credits</th>\n",
       "      <th>Type-of-apartment</th>\n",
       "      <th>No-of-Credits-at-this-Bank</th>\n",
       "      <th>Occupation</th>\n",
       "      <th>No-of-dependents</th>\n",
       "      <th>Telephone</th>\n",
       "      <th>Foreign-Worker</th>\n",
       "    </tr>\n",
       "  </thead>\n",
       "  <tbody>\n",
       "    <tr>\n",
       "      <th>0</th>\n",
       "      <td>Creditworthy</td>\n",
       "      <td>Some Balance</td>\n",
       "      <td>4</td>\n",
       "      <td>Paid Up</td>\n",
       "      <td>Other</td>\n",
       "      <td>1494</td>\n",
       "      <td>£100-£1000</td>\n",
       "      <td>&lt; 1yr</td>\n",
       "      <td>1</td>\n",
       "      <td>None</td>\n",
       "      <td>2.0</td>\n",
       "      <td>1</td>\n",
       "      <td>NaN</td>\n",
       "      <td>Other Banks/Depts</td>\n",
       "      <td>2</td>\n",
       "      <td>1</td>\n",
       "      <td>1</td>\n",
       "      <td>2</td>\n",
       "      <td>1</td>\n",
       "      <td>2</td>\n",
       "    </tr>\n",
       "    <tr>\n",
       "      <th>1</th>\n",
       "      <td>Creditworthy</td>\n",
       "      <td>Some Balance</td>\n",
       "      <td>4</td>\n",
       "      <td>Paid Up</td>\n",
       "      <td>Home Related</td>\n",
       "      <td>1494</td>\n",
       "      <td>£100-£1000</td>\n",
       "      <td>&lt; 1yr</td>\n",
       "      <td>1</td>\n",
       "      <td>None</td>\n",
       "      <td>2.0</td>\n",
       "      <td>1</td>\n",
       "      <td>29.0</td>\n",
       "      <td>Other Banks/Depts</td>\n",
       "      <td>2</td>\n",
       "      <td>1</td>\n",
       "      <td>1</td>\n",
       "      <td>2</td>\n",
       "      <td>1</td>\n",
       "      <td>2</td>\n",
       "    </tr>\n",
       "    <tr>\n",
       "      <th>2</th>\n",
       "      <td>Creditworthy</td>\n",
       "      <td>Some Balance</td>\n",
       "      <td>4</td>\n",
       "      <td>No Problems (in this bank)</td>\n",
       "      <td>Home Related</td>\n",
       "      <td>1544</td>\n",
       "      <td>None</td>\n",
       "      <td>1-4 yrs</td>\n",
       "      <td>2</td>\n",
       "      <td>None</td>\n",
       "      <td>1.0</td>\n",
       "      <td>1</td>\n",
       "      <td>42.0</td>\n",
       "      <td>Other Banks/Depts</td>\n",
       "      <td>2</td>\n",
       "      <td>More than 1</td>\n",
       "      <td>1</td>\n",
       "      <td>2</td>\n",
       "      <td>1</td>\n",
       "      <td>1</td>\n",
       "    </tr>\n",
       "    <tr>\n",
       "      <th>3</th>\n",
       "      <td>Creditworthy</td>\n",
       "      <td>Some Balance</td>\n",
       "      <td>4</td>\n",
       "      <td>No Problems (in this bank)</td>\n",
       "      <td>Home Related</td>\n",
       "      <td>3380</td>\n",
       "      <td>None</td>\n",
       "      <td>1-4 yrs</td>\n",
       "      <td>1</td>\n",
       "      <td>None</td>\n",
       "      <td>1.0</td>\n",
       "      <td>1</td>\n",
       "      <td>37.0</td>\n",
       "      <td>Other Banks/Depts</td>\n",
       "      <td>2</td>\n",
       "      <td>1</td>\n",
       "      <td>1</td>\n",
       "      <td>2</td>\n",
       "      <td>1</td>\n",
       "      <td>1</td>\n",
       "    </tr>\n",
       "    <tr>\n",
       "      <th>4</th>\n",
       "      <td>Creditworthy</td>\n",
       "      <td>No Account</td>\n",
       "      <td>6</td>\n",
       "      <td>Paid Up</td>\n",
       "      <td>Home Related</td>\n",
       "      <td>343</td>\n",
       "      <td>None</td>\n",
       "      <td>&lt; 1yr</td>\n",
       "      <td>4</td>\n",
       "      <td>None</td>\n",
       "      <td>1.0</td>\n",
       "      <td>1</td>\n",
       "      <td>27.0</td>\n",
       "      <td>Other Banks/Depts</td>\n",
       "      <td>2</td>\n",
       "      <td>1</td>\n",
       "      <td>1</td>\n",
       "      <td>1</td>\n",
       "      <td>1</td>\n",
       "      <td>1</td>\n",
       "    </tr>\n",
       "  </tbody>\n",
       "</table>\n",
       "</div>"
      ],
      "text/plain": [
       "  Credit-Application-Result Account-Balance  Duration-of-Credit-Month  \\\n",
       "0              Creditworthy    Some Balance                         4   \n",
       "1              Creditworthy    Some Balance                         4   \n",
       "2              Creditworthy    Some Balance                         4   \n",
       "3              Creditworthy    Some Balance                         4   \n",
       "4              Creditworthy      No Account                         6   \n",
       "\n",
       "  Payment-Status-of-Previous-Credit       Purpose  Credit-Amount  \\\n",
       "0                           Paid Up         Other           1494   \n",
       "1                           Paid Up  Home Related           1494   \n",
       "2        No Problems (in this bank)  Home Related           1544   \n",
       "3        No Problems (in this bank)  Home Related           3380   \n",
       "4                           Paid Up  Home Related            343   \n",
       "\n",
       "  Value-Savings-Stocks Length-of-current-employment  Instalment-per-cent  \\\n",
       "0           £100-£1000                        < 1yr                    1   \n",
       "1           £100-£1000                        < 1yr                    1   \n",
       "2                 None                      1-4 yrs                    2   \n",
       "3                 None                      1-4 yrs                    1   \n",
       "4                 None                        < 1yr                    4   \n",
       "\n",
       "  Guarantors  Duration-in-Current-address  Most-valuable-available-asset  \\\n",
       "0       None                          2.0                              1   \n",
       "1       None                          2.0                              1   \n",
       "2       None                          1.0                              1   \n",
       "3       None                          1.0                              1   \n",
       "4       None                          1.0                              1   \n",
       "\n",
       "   Age-years Concurrent-Credits  Type-of-apartment No-of-Credits-at-this-Bank  \\\n",
       "0        NaN  Other Banks/Depts                  2                          1   \n",
       "1       29.0  Other Banks/Depts                  2                          1   \n",
       "2       42.0  Other Banks/Depts                  2                More than 1   \n",
       "3       37.0  Other Banks/Depts                  2                          1   \n",
       "4       27.0  Other Banks/Depts                  2                          1   \n",
       "\n",
       "   Occupation  No-of-dependents  Telephone  Foreign-Worker  \n",
       "0           1                 2          1               2  \n",
       "1           1                 2          1               2  \n",
       "2           1                 2          1               1  \n",
       "3           1                 2          1               1  \n",
       "4           1                 1          1               1  "
      ]
     },
     "execution_count": 3,
     "metadata": {},
     "output_type": "execute_result"
    }
   ],
   "source": [
    "raw_data.head() # Glance at the dataset(1) "
   ]
  },
  {
   "cell_type": "code",
   "execution_count": 4,
   "metadata": {},
   "outputs": [
    {
     "data": {
      "text/plain": [
       "(500, 20)"
      ]
     },
     "execution_count": 4,
     "metadata": {},
     "output_type": "execute_result"
    }
   ],
   "source": [
    "raw_data.shape # Glance at the dataset(2). The dataset contains 500 datapoints with 20 fields."
   ]
  },
  {
   "cell_type": "code",
   "execution_count": 5,
   "metadata": {
    "scrolled": false
   },
   "outputs": [
    {
     "name": "stdout",
     "output_type": "stream",
     "text": [
      "<class 'pandas.core.frame.DataFrame'>\n",
      "RangeIndex: 500 entries, 0 to 499\n",
      "Data columns (total 20 columns):\n",
      " #   Column                             Non-Null Count  Dtype  \n",
      "---  ------                             --------------  -----  \n",
      " 0   Credit-Application-Result          500 non-null    object \n",
      " 1   Account-Balance                    500 non-null    object \n",
      " 2   Duration-of-Credit-Month           500 non-null    int64  \n",
      " 3   Payment-Status-of-Previous-Credit  500 non-null    object \n",
      " 4   Purpose                            500 non-null    object \n",
      " 5   Credit-Amount                      500 non-null    int64  \n",
      " 6   Value-Savings-Stocks               500 non-null    object \n",
      " 7   Length-of-current-employment       500 non-null    object \n",
      " 8   Instalment-per-cent                500 non-null    int64  \n",
      " 9   Guarantors                         500 non-null    object \n",
      " 10  Duration-in-Current-address        156 non-null    float64\n",
      " 11  Most-valuable-available-asset      500 non-null    int64  \n",
      " 12  Age-years                          488 non-null    float64\n",
      " 13  Concurrent-Credits                 500 non-null    object \n",
      " 14  Type-of-apartment                  500 non-null    int64  \n",
      " 15  No-of-Credits-at-this-Bank         500 non-null    object \n",
      " 16  Occupation                         500 non-null    int64  \n",
      " 17  No-of-dependents                   500 non-null    int64  \n",
      " 18  Telephone                          500 non-null    int64  \n",
      " 19  Foreign-Worker                     500 non-null    int64  \n",
      "dtypes: float64(2), int64(9), object(9)\n",
      "memory usage: 78.2+ KB\n"
     ]
    }
   ],
   "source": [
    "raw_data.info() # Check the datatype of each field and missing values in each field."
   ]
  },
  {
   "cell_type": "markdown",
   "metadata": {},
   "source": [
    "> Brief Descriptions of Input variables: <br>\n",
    "1. **Account-Balance** (categorical: 'No Account', 'Some Balance'): Has an account with some balance?\n",
    "2. **Duration-of-Credit-Month** (numeric): Credit duration in month.\n",
    "3. **Payment-Status-of-Previous-Credit** (categorical: 'Paid Up', 'No Problems (in this bank)', 'Some Problems'): Has problems with previous credit?\n",
    "4. **Purpose** (categorical: 'Home Related', 'Used car', 'New car', 'Other' ): The reasons for taking credit.\n",
    "5. **Credit-Amount** (numeric): The amount of credit. \n",
    "6. **Value-Savings-Stocks** (categorical:'£100-£1000', 'None', '< £100'): The value of saving stocks for each customer. \n",
    "7. **Length-of-current-employment** (categorical: '< 1yr', '1-4 yrs', '4-7 yrs'): The number of years of employment. \n",
    "8. **Instalment-per-cent** (numeric): The percentage of the annual instalment. \n",
    "9. **Guarantors** (binary: \"None\", \"Yes\"): has a guarantor?\n",
    "10. **Duration-in-Current-address** (numeric)\n",
    "11. **Most-valuable-available-asset** (numeric)\n",
    "12. **Age-years** (numeric): The age of each customers in years. \n",
    "13. **Concurrent-Credits** (categorical: 'Other Banks/Depts'): has the customer concurrent credits? \n",
    "14. **Type-of-apartment** (categorical: '1', '2', '3', '4')\n",
    "15. **No-of-Credits-at-this-Bank**  (categorical: '1', 'More than 1')\n",
    "16. **Occupation** (binary: '1': yes, '0': no): are employed? \n",
    "17. **No-of-dependents** (numeric): The number of dependents.\n",
    "18. **Telephone** (numeric): The number of contacts with telephone\n",
    "19. **Foreign-Worker** (binary: '1': yes, '0': no)"
   ]
  },
  {
   "cell_type": "code",
   "execution_count": 6,
   "metadata": {
    "scrolled": false
   },
   "outputs": [
    {
     "data": {
      "text/plain": [
       "array([[<matplotlib.axes._subplots.AxesSubplot object at 0x000001692D7CFB48>,\n",
       "        <matplotlib.axes._subplots.AxesSubplot object at 0x000001692DFC2048>,\n",
       "        <matplotlib.axes._subplots.AxesSubplot object at 0x000001692DFF2D48>],\n",
       "       [<matplotlib.axes._subplots.AxesSubplot object at 0x000001692E02AAC8>,\n",
       "        <matplotlib.axes._subplots.AxesSubplot object at 0x000001692E062848>,\n",
       "        <matplotlib.axes._subplots.AxesSubplot object at 0x000001692E094F88>],\n",
       "       [<matplotlib.axes._subplots.AxesSubplot object at 0x000001692E0D40C8>,\n",
       "        <matplotlib.axes._subplots.AxesSubplot object at 0x000001692E10B108>,\n",
       "        <matplotlib.axes._subplots.AxesSubplot object at 0x000001692E10FCC8>],\n",
       "       [<matplotlib.axes._subplots.AxesSubplot object at 0x000001692E148EC8>,\n",
       "        <matplotlib.axes._subplots.AxesSubplot object at 0x000001692E1B0448>,\n",
       "        <matplotlib.axes._subplots.AxesSubplot object at 0x000001692E1E8588>]],\n",
       "      dtype=object)"
      ]
     },
     "execution_count": 6,
     "metadata": {},
     "output_type": "execute_result"
    },
    {
     "data": {
      "image/png": "[encoded data removed]",
      "text/plain": [
       "<Figure size 1152x720 with 12 Axes>"
      ]
     },
     "metadata": {},
     "output_type": "display_data"
    }
   ],
   "source": [
    "raw_data.hist(column= raw_data.columns,  figsize = (16,10)) # Check the distribution of each columns "
   ]
  },
  {
   "cell_type": "markdown",
   "metadata": {},
   "source": [
    "> First, I built  the training set given the data provided. It has 500 datapoints and 20 features. Two features contain missing values. We've also checked the datatypes of each field. I made the following notes to clean the data. \n",
    "- (1) All column names include 'dash(-)' between the words. It is replaced with 'underscore' for convenient usage of python.\n",
    "- (2) The column **\"Type-of-apartment\"** should have an \"object\" type, rather than \"int64\". \n",
    "- (3) **'Telephone'** is the contact communication type. It is dropped due to irrelevancy. \n",
    "- (4) **'Occupation'**, **'Concurrent-Credits'** have only one value for the entire samples. Although the columns are associated to creditworthiness, it doesn't make sense to be included in the model. \n",
    "- (5) The fields: **'Guarantors'**, **'Foreign-Worker'**, **'No-of-dependents'** highly skew towards one type of data. Such low variabilities hinder appropriate prediction. They are dropped.\n",
    "- (6) **'Duration-in-Current-address'** is removed due the high percentage of missing values. ca. 69% of datapoints are missing. It is dropped.\n",
    "- (7) **'Age-years'** has only 2% of missing values. I imputed them with the median value. Unlike the mean value, median is the already existing value in the dataset, and it is less susceptible to outliers comparing to mean imputation. I prefer the median here because the distribution of the variable is skewed to the left. And when we have skewed distribution the median value is a more accurate measure of centre.\n",
    "\n",
    "> Therefore, the initial  data is modified as below. "
   ]
  },
  {
   "cell_type": "code",
   "execution_count": 7,
   "metadata": {},
   "outputs": [],
   "source": [
    "# Make a copy of the original dataset. It works as a checkpoint.\n",
    "data = raw_data.copy() \n",
    "# (1) Change the column names with underscore\n",
    "data.columns = data.columns.str.replace(\"-\", \"_\")"
   ]
  },
  {
   "cell_type": "code",
   "execution_count": 8,
   "metadata": {},
   "outputs": [],
   "source": [
    "# (2) Change the datatype of the column: \"Type_of_apartment\"\n",
    "data.Type_of_apartment=data.Type_of_apartment.apply(str)"
   ]
  },
  {
   "cell_type": "code",
   "execution_count": 9,
   "metadata": {},
   "outputs": [],
   "source": [
    "# (3) - (6) Dropped the irrelevant or uncessary columns \n",
    "data.drop(['Telephone'], axis = 1, inplace= True) # Irrelevant feature is dropped.\n",
    "data.drop(['Occupation','Concurrent_Credits'], axis = 1, inplace= True) # Same value for all datapoints are removed.\n",
    "data.drop(['Guarantors', 'Foreign_Worker','No_of_dependents'], axis = 1, inplace= True) # Columns with low variabilities are excluded.\n",
    "data.drop(['Duration_in_Current_address'], axis = 1, inplace= True) # The field with huge percentage of missing values is dropped."
   ]
  },
  {
   "cell_type": "code",
   "execution_count": 10,
   "metadata": {},
   "outputs": [
    {
     "data": {
      "text/html": [
       "<div>\n",
       "<style scoped>\n",
       "    .dataframe tbody tr th:only-of-type {\n",
       "        vertical-align: middle;\n",
       "    }\n",
       "\n",
       "    .dataframe tbody tr th {\n",
       "        vertical-align: top;\n",
       "    }\n",
       "\n",
       "    .dataframe thead th {\n",
       "        text-align: right;\n",
       "    }\n",
       "</style>\n",
       "<table border=\"1\" class=\"dataframe\">\n",
       "  <thead>\n",
       "    <tr style=\"text-align: right;\">\n",
       "      <th></th>\n",
       "      <th>Credit_Application_Result</th>\n",
       "      <th>Account_Balance</th>\n",
       "      <th>Duration_of_Credit_Month</th>\n",
       "      <th>Payment_Status_of_Previous_Credit</th>\n",
       "      <th>Purpose</th>\n",
       "      <th>Credit_Amount</th>\n",
       "      <th>Value_Savings_Stocks</th>\n",
       "      <th>Length_of_current_employment</th>\n",
       "      <th>Instalment_per_cent</th>\n",
       "      <th>Most_valuable_available_asset</th>\n",
       "      <th>Age_years</th>\n",
       "      <th>Type_of_apartment</th>\n",
       "      <th>No_of_Credits_at_this_Bank</th>\n",
       "    </tr>\n",
       "  </thead>\n",
       "  <tbody>\n",
       "    <tr>\n",
       "      <th>0</th>\n",
       "      <td>Creditworthy</td>\n",
       "      <td>Some Balance</td>\n",
       "      <td>4</td>\n",
       "      <td>Paid Up</td>\n",
       "      <td>Other</td>\n",
       "      <td>1494</td>\n",
       "      <td>£100-£1000</td>\n",
       "      <td>&lt; 1yr</td>\n",
       "      <td>1</td>\n",
       "      <td>1</td>\n",
       "      <td>NaN</td>\n",
       "      <td>2</td>\n",
       "      <td>1</td>\n",
       "    </tr>\n",
       "    <tr>\n",
       "      <th>52</th>\n",
       "      <td>Creditworthy</td>\n",
       "      <td>No Account</td>\n",
       "      <td>9</td>\n",
       "      <td>Paid Up</td>\n",
       "      <td>Other</td>\n",
       "      <td>1199</td>\n",
       "      <td>None</td>\n",
       "      <td>1-4 yrs</td>\n",
       "      <td>4</td>\n",
       "      <td>2</td>\n",
       "      <td>NaN</td>\n",
       "      <td>2</td>\n",
       "      <td>More than 1</td>\n",
       "    </tr>\n",
       "    <tr>\n",
       "      <th>63</th>\n",
       "      <td>Creditworthy</td>\n",
       "      <td>No Account</td>\n",
       "      <td>9</td>\n",
       "      <td>Paid Up</td>\n",
       "      <td>Other</td>\n",
       "      <td>1549</td>\n",
       "      <td>£100-£1000</td>\n",
       "      <td>&lt; 1yr</td>\n",
       "      <td>4</td>\n",
       "      <td>1</td>\n",
       "      <td>NaN</td>\n",
       "      <td>2</td>\n",
       "      <td>1</td>\n",
       "    </tr>\n",
       "    <tr>\n",
       "      <th>115</th>\n",
       "      <td>Creditworthy</td>\n",
       "      <td>Some Balance</td>\n",
       "      <td>12</td>\n",
       "      <td>No Problems (in this bank)</td>\n",
       "      <td>Other</td>\n",
       "      <td>930</td>\n",
       "      <td>£100-£1000</td>\n",
       "      <td>4-7 yrs</td>\n",
       "      <td>4</td>\n",
       "      <td>1</td>\n",
       "      <td>NaN</td>\n",
       "      <td>2</td>\n",
       "      <td>More than 1</td>\n",
       "    </tr>\n",
       "    <tr>\n",
       "      <th>139</th>\n",
       "      <td>Creditworthy</td>\n",
       "      <td>Some Balance</td>\n",
       "      <td>12</td>\n",
       "      <td>No Problems (in this bank)</td>\n",
       "      <td>Other</td>\n",
       "      <td>1402</td>\n",
       "      <td>£100-£1000</td>\n",
       "      <td>1-4 yrs</td>\n",
       "      <td>3</td>\n",
       "      <td>3</td>\n",
       "      <td>NaN</td>\n",
       "      <td>1</td>\n",
       "      <td>1</td>\n",
       "    </tr>\n",
       "    <tr>\n",
       "      <th>151</th>\n",
       "      <td>Creditworthy</td>\n",
       "      <td>Some Balance</td>\n",
       "      <td>12</td>\n",
       "      <td>Paid Up</td>\n",
       "      <td>Other</td>\n",
       "      <td>1736</td>\n",
       "      <td>None</td>\n",
       "      <td>1-4 yrs</td>\n",
       "      <td>3</td>\n",
       "      <td>1</td>\n",
       "      <td>NaN</td>\n",
       "      <td>2</td>\n",
       "      <td>1</td>\n",
       "    </tr>\n",
       "    <tr>\n",
       "      <th>172</th>\n",
       "      <td>Creditworthy</td>\n",
       "      <td>No Account</td>\n",
       "      <td>12</td>\n",
       "      <td>Paid Up</td>\n",
       "      <td>Other</td>\n",
       "      <td>3017</td>\n",
       "      <td>None</td>\n",
       "      <td>&lt; 1yr</td>\n",
       "      <td>3</td>\n",
       "      <td>1</td>\n",
       "      <td>NaN</td>\n",
       "      <td>1</td>\n",
       "      <td>1</td>\n",
       "    </tr>\n",
       "    <tr>\n",
       "      <th>321</th>\n",
       "      <td>Creditworthy</td>\n",
       "      <td>No Account</td>\n",
       "      <td>24</td>\n",
       "      <td>Paid Up</td>\n",
       "      <td>Other</td>\n",
       "      <td>2384</td>\n",
       "      <td>None</td>\n",
       "      <td>4-7 yrs</td>\n",
       "      <td>4</td>\n",
       "      <td>1</td>\n",
       "      <td>NaN</td>\n",
       "      <td>1</td>\n",
       "      <td>1</td>\n",
       "    </tr>\n",
       "    <tr>\n",
       "      <th>345</th>\n",
       "      <td>Creditworthy</td>\n",
       "      <td>Some Balance</td>\n",
       "      <td>24</td>\n",
       "      <td>No Problems (in this bank)</td>\n",
       "      <td>Other</td>\n",
       "      <td>3617</td>\n",
       "      <td>£100-£1000</td>\n",
       "      <td>4-7 yrs</td>\n",
       "      <td>4</td>\n",
       "      <td>4</td>\n",
       "      <td>NaN</td>\n",
       "      <td>1</td>\n",
       "      <td>More than 1</td>\n",
       "    </tr>\n",
       "    <tr>\n",
       "      <th>363</th>\n",
       "      <td>Creditworthy</td>\n",
       "      <td>Some Balance</td>\n",
       "      <td>24</td>\n",
       "      <td>No Problems (in this bank)</td>\n",
       "      <td>Other</td>\n",
       "      <td>5103</td>\n",
       "      <td>None</td>\n",
       "      <td>&lt; 1yr</td>\n",
       "      <td>3</td>\n",
       "      <td>4</td>\n",
       "      <td>NaN</td>\n",
       "      <td>3</td>\n",
       "      <td>More than 1</td>\n",
       "    </tr>\n",
       "    <tr>\n",
       "      <th>389</th>\n",
       "      <td>Creditworthy</td>\n",
       "      <td>Some Balance</td>\n",
       "      <td>30</td>\n",
       "      <td>Paid Up</td>\n",
       "      <td>Other</td>\n",
       "      <td>1867</td>\n",
       "      <td>£100-£1000</td>\n",
       "      <td>4-7 yrs</td>\n",
       "      <td>4</td>\n",
       "      <td>3</td>\n",
       "      <td>NaN</td>\n",
       "      <td>2</td>\n",
       "      <td>1</td>\n",
       "    </tr>\n",
       "    <tr>\n",
       "      <th>495</th>\n",
       "      <td>Creditworthy</td>\n",
       "      <td>No Account</td>\n",
       "      <td>60</td>\n",
       "      <td>No Problems (in this bank)</td>\n",
       "      <td>Other</td>\n",
       "      <td>7418</td>\n",
       "      <td>£100-£1000</td>\n",
       "      <td>&lt; 1yr</td>\n",
       "      <td>1</td>\n",
       "      <td>1</td>\n",
       "      <td>NaN</td>\n",
       "      <td>2</td>\n",
       "      <td>1</td>\n",
       "    </tr>\n",
       "  </tbody>\n",
       "</table>\n",
       "</div>"
      ],
      "text/plain": [
       "    Credit_Application_Result Account_Balance  Duration_of_Credit_Month  \\\n",
       "0                Creditworthy    Some Balance                         4   \n",
       "52               Creditworthy      No Account                         9   \n",
       "63               Creditworthy      No Account                         9   \n",
       "115              Creditworthy    Some Balance                        12   \n",
       "139              Creditworthy    Some Balance                        12   \n",
       "151              Creditworthy    Some Balance                        12   \n",
       "172              Creditworthy      No Account                        12   \n",
       "321              Creditworthy      No Account                        24   \n",
       "345              Creditworthy    Some Balance                        24   \n",
       "363              Creditworthy    Some Balance                        24   \n",
       "389              Creditworthy    Some Balance                        30   \n",
       "495              Creditworthy      No Account                        60   \n",
       "\n",
       "    Payment_Status_of_Previous_Credit Purpose  Credit_Amount  \\\n",
       "0                             Paid Up   Other           1494   \n",
       "52                            Paid Up   Other           1199   \n",
       "63                            Paid Up   Other           1549   \n",
       "115        No Problems (in this bank)   Other            930   \n",
       "139        No Problems (in this bank)   Other           1402   \n",
       "151                           Paid Up   Other           1736   \n",
       "172                           Paid Up   Other           3017   \n",
       "321                           Paid Up   Other           2384   \n",
       "345        No Problems (in this bank)   Other           3617   \n",
       "363        No Problems (in this bank)   Other           5103   \n",
       "389                           Paid Up   Other           1867   \n",
       "495        No Problems (in this bank)   Other           7418   \n",
       "\n",
       "    Value_Savings_Stocks Length_of_current_employment  Instalment_per_cent  \\\n",
       "0             £100-£1000                        < 1yr                    1   \n",
       "52                  None                      1-4 yrs                    4   \n",
       "63            £100-£1000                        < 1yr                    4   \n",
       "115           £100-£1000                      4-7 yrs                    4   \n",
       "139           £100-£1000                      1-4 yrs                    3   \n",
       "151                 None                      1-4 yrs                    3   \n",
       "172                 None                        < 1yr                    3   \n",
       "321                 None                      4-7 yrs                    4   \n",
       "345           £100-£1000                      4-7 yrs                    4   \n",
       "363                 None                        < 1yr                    3   \n",
       "389           £100-£1000                      4-7 yrs                    4   \n",
       "495           £100-£1000                        < 1yr                    1   \n",
       "\n",
       "     Most_valuable_available_asset  Age_years Type_of_apartment  \\\n",
       "0                                1        NaN                 2   \n",
       "52                               2        NaN                 2   \n",
       "63                               1        NaN                 2   \n",
       "115                              1        NaN                 2   \n",
       "139                              3        NaN                 1   \n",
       "151                              1        NaN                 2   \n",
       "172                              1        NaN                 1   \n",
       "321                              1        NaN                 1   \n",
       "345                              4        NaN                 1   \n",
       "363                              4        NaN                 3   \n",
       "389                              3        NaN                 2   \n",
       "495                              1        NaN                 2   \n",
       "\n",
       "    No_of_Credits_at_this_Bank  \n",
       "0                            1  \n",
       "52                 More than 1  \n",
       "63                           1  \n",
       "115                More than 1  \n",
       "139                          1  \n",
       "151                          1  \n",
       "172                          1  \n",
       "321                          1  \n",
       "345                More than 1  \n",
       "363                More than 1  \n",
       "389                          1  \n",
       "495                          1  "
      ]
     },
     "execution_count": 10,
     "metadata": {},
     "output_type": "execute_result"
    }
   ],
   "source": [
    "# (7) Impute the missing values in Age_years column \n",
    "# Find the samples whose 'Age_years' column is omitted.\n",
    "null_data = data[data.isnull().any(axis=1)]\n",
    "null_data "
   ]
  },
  {
   "cell_type": "code",
   "execution_count": 11,
   "metadata": {},
   "outputs": [
    {
     "data": {
      "text/plain": [
       "33.0"
      ]
     },
     "execution_count": 11,
     "metadata": {},
     "output_type": "execute_result"
    }
   ],
   "source": [
    "median_age = data['Age_years'].median()\n",
    "median_age # Calculate the median value of age in years"
   ]
  },
  {
   "cell_type": "code",
   "execution_count": 12,
   "metadata": {},
   "outputs": [],
   "source": [
    "# Fill up the missing datapoints with its median values \n",
    "values = {'Age_years': median_age} \n",
    "data.fillna(value=values, inplace = True); "
   ]
  },
  {
   "cell_type": "markdown",
   "metadata": {},
   "source": [
    "> All cleaning processes earlier mentioned, are done. Now, using the methods .head() and .info(), check whether the changes are well applied. "
   ]
  },
  {
   "cell_type": "code",
   "execution_count": 13,
   "metadata": {},
   "outputs": [
    {
     "data": {
      "text/html": [
       "<div>\n",
       "<style scoped>\n",
       "    .dataframe tbody tr th:only-of-type {\n",
       "        vertical-align: middle;\n",
       "    }\n",
       "\n",
       "    .dataframe tbody tr th {\n",
       "        vertical-align: top;\n",
       "    }\n",
       "\n",
       "    .dataframe thead th {\n",
       "        text-align: right;\n",
       "    }\n",
       "</style>\n",
       "<table border=\"1\" class=\"dataframe\">\n",
       "  <thead>\n",
       "    <tr style=\"text-align: right;\">\n",
       "      <th></th>\n",
       "      <th>Credit_Application_Result</th>\n",
       "      <th>Account_Balance</th>\n",
       "      <th>Duration_of_Credit_Month</th>\n",
       "      <th>Payment_Status_of_Previous_Credit</th>\n",
       "      <th>Purpose</th>\n",
       "      <th>Credit_Amount</th>\n",
       "      <th>Value_Savings_Stocks</th>\n",
       "      <th>Length_of_current_employment</th>\n",
       "      <th>Instalment_per_cent</th>\n",
       "      <th>Most_valuable_available_asset</th>\n",
       "      <th>Age_years</th>\n",
       "      <th>Type_of_apartment</th>\n",
       "      <th>No_of_Credits_at_this_Bank</th>\n",
       "    </tr>\n",
       "  </thead>\n",
       "  <tbody>\n",
       "    <tr>\n",
       "      <th>0</th>\n",
       "      <td>Creditworthy</td>\n",
       "      <td>Some Balance</td>\n",
       "      <td>4</td>\n",
       "      <td>Paid Up</td>\n",
       "      <td>Other</td>\n",
       "      <td>1494</td>\n",
       "      <td>£100-£1000</td>\n",
       "      <td>&lt; 1yr</td>\n",
       "      <td>1</td>\n",
       "      <td>1</td>\n",
       "      <td>33.0</td>\n",
       "      <td>2</td>\n",
       "      <td>1</td>\n",
       "    </tr>\n",
       "    <tr>\n",
       "      <th>1</th>\n",
       "      <td>Creditworthy</td>\n",
       "      <td>Some Balance</td>\n",
       "      <td>4</td>\n",
       "      <td>Paid Up</td>\n",
       "      <td>Home Related</td>\n",
       "      <td>1494</td>\n",
       "      <td>£100-£1000</td>\n",
       "      <td>&lt; 1yr</td>\n",
       "      <td>1</td>\n",
       "      <td>1</td>\n",
       "      <td>29.0</td>\n",
       "      <td>2</td>\n",
       "      <td>1</td>\n",
       "    </tr>\n",
       "    <tr>\n",
       "      <th>2</th>\n",
       "      <td>Creditworthy</td>\n",
       "      <td>Some Balance</td>\n",
       "      <td>4</td>\n",
       "      <td>No Problems (in this bank)</td>\n",
       "      <td>Home Related</td>\n",
       "      <td>1544</td>\n",
       "      <td>None</td>\n",
       "      <td>1-4 yrs</td>\n",
       "      <td>2</td>\n",
       "      <td>1</td>\n",
       "      <td>42.0</td>\n",
       "      <td>2</td>\n",
       "      <td>More than 1</td>\n",
       "    </tr>\n",
       "    <tr>\n",
       "      <th>3</th>\n",
       "      <td>Creditworthy</td>\n",
       "      <td>Some Balance</td>\n",
       "      <td>4</td>\n",
       "      <td>No Problems (in this bank)</td>\n",
       "      <td>Home Related</td>\n",
       "      <td>3380</td>\n",
       "      <td>None</td>\n",
       "      <td>1-4 yrs</td>\n",
       "      <td>1</td>\n",
       "      <td>1</td>\n",
       "      <td>37.0</td>\n",
       "      <td>2</td>\n",
       "      <td>1</td>\n",
       "    </tr>\n",
       "    <tr>\n",
       "      <th>4</th>\n",
       "      <td>Creditworthy</td>\n",
       "      <td>No Account</td>\n",
       "      <td>6</td>\n",
       "      <td>Paid Up</td>\n",
       "      <td>Home Related</td>\n",
       "      <td>343</td>\n",
       "      <td>None</td>\n",
       "      <td>&lt; 1yr</td>\n",
       "      <td>4</td>\n",
       "      <td>1</td>\n",
       "      <td>27.0</td>\n",
       "      <td>2</td>\n",
       "      <td>1</td>\n",
       "    </tr>\n",
       "  </tbody>\n",
       "</table>\n",
       "</div>"
      ],
      "text/plain": [
       "  Credit_Application_Result Account_Balance  Duration_of_Credit_Month  \\\n",
       "0              Creditworthy    Some Balance                         4   \n",
       "1              Creditworthy    Some Balance                         4   \n",
       "2              Creditworthy    Some Balance                         4   \n",
       "3              Creditworthy    Some Balance                         4   \n",
       "4              Creditworthy      No Account                         6   \n",
       "\n",
       "  Payment_Status_of_Previous_Credit       Purpose  Credit_Amount  \\\n",
       "0                           Paid Up         Other           1494   \n",
       "1                           Paid Up  Home Related           1494   \n",
       "2        No Problems (in this bank)  Home Related           1544   \n",
       "3        No Problems (in this bank)  Home Related           3380   \n",
       "4                           Paid Up  Home Related            343   \n",
       "\n",
       "  Value_Savings_Stocks Length_of_current_employment  Instalment_per_cent  \\\n",
       "0           £100-£1000                        < 1yr                    1   \n",
       "1           £100-£1000                        < 1yr                    1   \n",
       "2                 None                      1-4 yrs                    2   \n",
       "3                 None                      1-4 yrs                    1   \n",
       "4                 None                        < 1yr                    4   \n",
       "\n",
       "   Most_valuable_available_asset  Age_years Type_of_apartment  \\\n",
       "0                              1       33.0                 2   \n",
       "1                              1       29.0                 2   \n",
       "2                              1       42.0                 2   \n",
       "3                              1       37.0                 2   \n",
       "4                              1       27.0                 2   \n",
       "\n",
       "  No_of_Credits_at_this_Bank  \n",
       "0                          1  \n",
       "1                          1  \n",
       "2                More than 1  \n",
       "3                          1  \n",
       "4                          1  "
      ]
     },
     "execution_count": 13,
     "metadata": {},
     "output_type": "execute_result"
    }
   ],
   "source": [
    "data.head()"
   ]
  },
  {
   "cell_type": "code",
   "execution_count": 14,
   "metadata": {},
   "outputs": [
    {
     "name": "stdout",
     "output_type": "stream",
     "text": [
      "<class 'pandas.core.frame.DataFrame'>\n",
      "RangeIndex: 500 entries, 0 to 499\n",
      "Data columns (total 13 columns):\n",
      " #   Column                             Non-Null Count  Dtype  \n",
      "---  ------                             --------------  -----  \n",
      " 0   Credit_Application_Result          500 non-null    object \n",
      " 1   Account_Balance                    500 non-null    object \n",
      " 2   Duration_of_Credit_Month           500 non-null    int64  \n",
      " 3   Payment_Status_of_Previous_Credit  500 non-null    object \n",
      " 4   Purpose                            500 non-null    object \n",
      " 5   Credit_Amount                      500 non-null    int64  \n",
      " 6   Value_Savings_Stocks               500 non-null    object \n",
      " 7   Length_of_current_employment       500 non-null    object \n",
      " 8   Instalment_per_cent                500 non-null    int64  \n",
      " 9   Most_valuable_available_asset      500 non-null    int64  \n",
      " 10  Age_years                          500 non-null    float64\n",
      " 11  Type_of_apartment                  500 non-null    object \n",
      " 12  No_of_Credits_at_this_Bank         500 non-null    object \n",
      "dtypes: float64(1), int64(4), object(8)\n",
      "memory usage: 50.9+ KB\n"
     ]
    }
   ],
   "source": [
    "data.info()"
   ]
  },
  {
   "cell_type": "markdown",
   "metadata": {},
   "source": [
    "> Column names are changed with underscores between the words. All fields in the dataset do not contain missing values. Looks Nice. "
   ]
  },
  {
   "cell_type": "markdown",
   "metadata": {},
   "source": [
    "<a id='Exploration'></a>\n",
    "## Data Exploration with Visualizations\n",
    "\n",
    "> In this section, I explore each column individually deeper. To begin with, I compare the creditworthy customers with the non-creditworthy. Furthermore, for numeric input variables, I analysed their group means, and whether they are statistically significant. Several visualizations will help you to understand whether  the individual fields are associated with the target variables. <br>\n",
    "\n",
    "> **Contents of the Section**<br>\n",
    "    <ul>\n",
    "    <li><a href=\"#target\">1. Credit Application Result (Desired Target)</a></li>\n",
    "    <li><a href=\"#correlation\">2. Correlation between numeric variables</a></li>\n",
    "    <li><a href=\"#balance\">3. Account Balance</a></li>\n",
    "    <li><a href=\"#status\">4. Payment Status of Previous Credit</a></li>\n",
    "    <li><a href=\"#purpose\">5. Purpose</a></li>\n",
    "    <li><a href=\"#value\">6. Value Savings Stocks</a></li>\n",
    "    <li><a href=\"#length\">7. Length of current employment</a></li>\n",
    "    <li><a href=\"#apartment\">8. Types of Apartment</a></li>\n",
    "    <li><a href=\"#no_Credits\">9. Number of Credits at this Bank</a></li>\n",
    "    </ul>"
   ]
  },
  {
   "cell_type": "markdown",
   "metadata": {},
   "source": [
    "<a id='target'></a>\n",
    "### 1. Credit Application Result (Desired Target)"
   ]
  },
  {
   "cell_type": "code",
   "execution_count": 15,
   "metadata": {
    "scrolled": true
   },
   "outputs": [
    {
     "data": {
      "text/plain": [
       "Creditworthy        358\n",
       "Non-Creditworthy    142\n",
       "Name: Credit_Application_Result, dtype: int64"
      ]
     },
     "execution_count": 15,
     "metadata": {},
     "output_type": "execute_result"
    }
   ],
   "source": [
    "data['Credit_Application_Result'].value_counts()"
   ]
  },
  {
   "cell_type": "code",
   "execution_count": 16,
   "metadata": {},
   "outputs": [
    {
     "data": {
      "text/plain": [
       "Text(0, 0.5, 'Counts')"
      ]
     },
     "execution_count": 16,
     "metadata": {},
     "output_type": "execute_result"
    },
    {
     "data": {
      "image/png": "[encoded data removed]",
      "text/plain": [
       "<Figure size 432x288 with 1 Axes>"
      ]
     },
     "metadata": {},
     "output_type": "display_data"
    }
   ],
   "source": [
    "base_color =sns.color_palette()[0]\n",
    "sns.countplot(x='Credit_Application_Result',data = data, color =base_color)\n",
    "plt.xlabel('Credit Application Result')\n",
    "plt.ylabel('Counts')"
   ]
  },
  {
   "cell_type": "code",
   "execution_count": 17,
   "metadata": {
    "scrolled": true
   },
   "outputs": [
    {
     "name": "stdout",
     "output_type": "stream",
     "text": [
      "- Proportion of Non-Creditworthy: 0.284\n",
      "- Proportion of Creditworthy: 0.716\n"
     ]
    }
   ],
   "source": [
    "non_creditworthy = len(data[data['Credit_Application_Result']=='Non-Creditworthy'])\n",
    "creditworthy = len(data[data['Credit_Application_Result']=='Creditworthy'])\n",
    "pct_of_non_creditworthy = non_creditworthy/(non_creditworthy+creditworthy)\n",
    "print(\"- Proportion of Non-Creditworthy:\", pct_of_non_creditworthy)\n",
    "pct_of_creditworthy = creditworthy/(non_creditworthy+creditworthy)\n",
    "print(\"- Proportion of Creditworthy:\", pct_of_creditworthy)"
   ]
  },
  {
   "cell_type": "markdown",
   "metadata": {},
   "source": [
    "> The classes are imbalanced, and the ratio of \"Creditworthy\" to \"Non-Creditworthy\" shows is **72:28**. Before I balanced the classes, some more explorations are conducted. I calculated the group means of numeric variables (Duration_of_Credit_Month, Credit_Amount, Instalment_per_cent, Most_valuable_available_asset, Age_years) for both groups and tested whether the group means are statistically different."
   ]
  },
  {
   "cell_type": "markdown",
   "metadata": {},
   "source": [
    "#### Group Means Comparisons"
   ]
  },
  {
   "cell_type": "code",
   "execution_count": 18,
   "metadata": {
    "scrolled": true
   },
   "outputs": [
    {
     "data": {
      "text/html": [
       "<div>\n",
       "<style scoped>\n",
       "    .dataframe tbody tr th:only-of-type {\n",
       "        vertical-align: middle;\n",
       "    }\n",
       "\n",
       "    .dataframe tbody tr th {\n",
       "        vertical-align: top;\n",
       "    }\n",
       "\n",
       "    .dataframe thead th {\n",
       "        text-align: right;\n",
       "    }\n",
       "</style>\n",
       "<table border=\"1\" class=\"dataframe\">\n",
       "  <thead>\n",
       "    <tr style=\"text-align: right;\">\n",
       "      <th></th>\n",
       "      <th>Duration_of_Credit_Month</th>\n",
       "      <th>Credit_Amount</th>\n",
       "      <th>Instalment_per_cent</th>\n",
       "      <th>Most_valuable_available_asset</th>\n",
       "      <th>Age_years</th>\n",
       "    </tr>\n",
       "    <tr>\n",
       "      <th>Credit_Application_Result</th>\n",
       "      <th></th>\n",
       "      <th></th>\n",
       "      <th></th>\n",
       "      <th></th>\n",
       "      <th></th>\n",
       "    </tr>\n",
       "  </thead>\n",
       "  <tbody>\n",
       "    <tr>\n",
       "      <th>Creditworthy</th>\n",
       "      <td>19.865922</td>\n",
       "      <td>2840.229050</td>\n",
       "      <td>2.966480</td>\n",
       "      <td>2.265363</td>\n",
       "      <td>35.952514</td>\n",
       "    </tr>\n",
       "    <tr>\n",
       "      <th>Non-Creditworthy</th>\n",
       "      <td>25.387324</td>\n",
       "      <td>4106.957746</td>\n",
       "      <td>3.119718</td>\n",
       "      <td>2.598592</td>\n",
       "      <td>34.619718</td>\n",
       "    </tr>\n",
       "  </tbody>\n",
       "</table>\n",
       "</div>"
      ],
      "text/plain": [
       "                           Duration_of_Credit_Month  Credit_Amount  \\\n",
       "Credit_Application_Result                                            \n",
       "Creditworthy                              19.865922    2840.229050   \n",
       "Non-Creditworthy                          25.387324    4106.957746   \n",
       "\n",
       "                           Instalment_per_cent  Most_valuable_available_asset  \\\n",
       "Credit_Application_Result                                                       \n",
       "Creditworthy                          2.966480                       2.265363   \n",
       "Non-Creditworthy                      3.119718                       2.598592   \n",
       "\n",
       "                           Age_years  \n",
       "Credit_Application_Result             \n",
       "Creditworthy               35.952514  \n",
       "Non-Creditworthy           34.619718  "
      ]
     },
     "execution_count": 18,
     "metadata": {},
     "output_type": "execute_result"
    }
   ],
   "source": [
    "# Calcuate the group means.\n",
    "data.groupby('Credit_Application_Result').mean()"
   ]
  },
  {
   "cell_type": "markdown",
   "metadata": {},
   "source": [
    "> - The average credit duration of \"Creditworthy\" customers are shorter than that of \"Non_Creditworthy\" customers. The difference is about 5.52 months. \n",
    "- The average credit amount of \"Creditworthy\" individuals are smaller than that of the \"Non_Creditworthy\". \"Non_Creditworthy\" customers take USD 1,266.73 more than the Creditworthy on average. \n",
    "- The variable \"Most_valuable_available_asset\" is numeric, but in discrete value. The average number of available assets that creditworthy customers own is ca. 2.27. Similarly. the Non_Creditworthy own ca. 2.60.\n",
    "- \"Age_years\" is in the same situation with \"Most_valuable_available_asset\". The average age of Creditworthy group is a little bit higher than that of Non_Creditworthy group.  \n",
    "- Since the differences of the two variables seem quite trivial, I test the mean difference using two samples independent t-test below. "
   ]
  },
  {
   "cell_type": "markdown",
   "metadata": {},
   "source": [
    "#### Two Sample Independent T-tests"
   ]
  },
  {
   "cell_type": "code",
   "execution_count": 19,
   "metadata": {},
   "outputs": [],
   "source": [
    "from scipy import stats\n",
    "data_test=data.copy()\n",
    "worthy= data_test.query('Credit_Application_Result ==\"Creditworthy\"') # Filter out the creditworthy. \n",
    "non_worthy = data_test.query('Credit_Application_Result != \"Creditworthy\"') # Filter out the non-creditworthy. "
   ]
  },
  {
   "cell_type": "code",
   "execution_count": 20,
   "metadata": {},
   "outputs": [
    {
     "data": {
      "text/plain": [
       "Ttest_indResult(statistic=-4.347773395109759, pvalue=2.0650349072181e-05)"
      ]
     },
     "execution_count": 20,
     "metadata": {},
     "output_type": "execute_result"
    }
   ],
   "source": [
    "# T-test for \"Duration_of_Credit_Month\"\n",
    "stats.ttest_ind(worthy['Duration_of_Credit_Month'],non_worthy['Duration_of_Credit_Month'], equal_var = False)"
   ]
  },
  {
   "cell_type": "code",
   "execution_count": 21,
   "metadata": {},
   "outputs": [
    {
     "data": {
      "text/plain": [
       "Ttest_indResult(statistic=-3.72534707078571, pvalue=0.0002602378463940242)"
      ]
     },
     "execution_count": 21,
     "metadata": {},
     "output_type": "execute_result"
    }
   ],
   "source": [
    "# T-test for \"Credit_Amount\"\n",
    "stats.ttest_ind(worthy['Credit_Amount'],non_worthy['Credit_Amount'], equal_var = False)"
   ]
  },
  {
   "cell_type": "code",
   "execution_count": 22,
   "metadata": {},
   "outputs": [
    {
     "data": {
      "text/plain": [
       "Ttest_indResult(statistic=-1.392518904544035, pvalue=0.16495295478821406)"
      ]
     },
     "execution_count": 22,
     "metadata": {},
     "output_type": "execute_result"
    }
   ],
   "source": [
    "# T-test for \"Instalment_per_cent\"\n",
    "stats.ttest_ind(worthy['Instalment_per_cent'],non_worthy['Instalment_per_cent'], equal_var = False)"
   ]
  },
  {
   "cell_type": "code",
   "execution_count": 23,
   "metadata": {},
   "outputs": [
    {
     "data": {
      "text/plain": [
       "Ttest_indResult(statistic=-3.1659536259830956, pvalue=0.0017332335688768836)"
      ]
     },
     "execution_count": 23,
     "metadata": {},
     "output_type": "execute_result"
    }
   ],
   "source": [
    "# T-test for \"Most_valuable_available_asset\"\n",
    "stats.ttest_ind(worthy['Most_valuable_available_asset'],non_worthy['Most_valuable_available_asset'], equal_var = False)"
   ]
  },
  {
   "cell_type": "code",
   "execution_count": 24,
   "metadata": {},
   "outputs": [
    {
     "data": {
      "text/plain": [
       "Ttest_indResult(statistic=1.1613893683418994, pvalue=0.2465931246944281)"
      ]
     },
     "execution_count": 24,
     "metadata": {},
     "output_type": "execute_result"
    }
   ],
   "source": [
    "# T-test for \"Age_years\"\n",
    "stats.ttest_ind(worthy['Age_years'],non_worthy['Age_years'], equal_var = False)"
   ]
  },
  {
   "cell_type": "markdown",
   "metadata": {},
   "source": [
    "> The T-tests results show that the mean differences for the columns: \"Duration_of_Credit_Month\", \"Credit_Amount\", \"Most_valuable_available_asset\" are statistically significant, with the alpha level 0.05. On the other hand, the average of \"Instalment_per_cent\", \"Age_years\" are not significantly different between the two groups. As the next step of data exploration, I checked the correlation between the input variables. "
   ]
  },
  {
   "cell_type": "markdown",
   "metadata": {},
   "source": [
    "<a id='correlation'></a>\n",
    "### 2. Correlation between Numeric Variables"
   ]
  },
  {
   "cell_type": "code",
   "execution_count": 25,
   "metadata": {},
   "outputs": [
    {
     "data": {
      "text/plain": [
       "<matplotlib.axes._subplots.AxesSubplot at 0x1692e419c88>"
      ]
     },
     "execution_count": 25,
     "metadata": {},
     "output_type": "execute_result"
    },
    {
     "data": {
      "image/png": "[encoded data removed]",
      "text/plain": [
       "<Figure size 720x432 with 2 Axes>"
      ]
     },
     "metadata": {},
     "output_type": "display_data"
    }
   ],
   "source": [
    "plt.figure(figsize=(10,6))\n",
    "sns.heatmap(data.corr(), annot = True,cmap=\"RdBu\", center=0, vmin=-1, vmax=1)"
   ]
  },
  {
   "cell_type": "markdown",
   "metadata": {},
   "source": [
    "> It seems that \"Credit Amount\" and \"Duration of Credit Month\" are moderately (but not severely correlated) and positively correlated. [Correlation Reference.](https://www.dummies.com/education/math/statistics/how-to-interpret-a-correlation-coefficient-r/) Other than the two, none of remaining numerical fields have strong correlations (larger than 0.7) each other. <br>\n",
    "> Next, I calculated group means for other categorical variables in the dataset to get a more detailed sense of our data."
   ]
  },
  {
   "cell_type": "markdown",
   "metadata": {},
   "source": [
    "<a id='balance'></a>\n",
    "### 3. Account Balance"
   ]
  },
  {
   "cell_type": "code",
   "execution_count": 26,
   "metadata": {
    "scrolled": false
   },
   "outputs": [
    {
     "data": {
      "text/plain": [
       "No Account      262\n",
       "Some Balance    238\n",
       "Name: Account_Balance, dtype: int64"
      ]
     },
     "execution_count": 26,
     "metadata": {},
     "output_type": "execute_result"
    }
   ],
   "source": [
    "data['Account_Balance'].value_counts()"
   ]
  },
  {
   "cell_type": "code",
   "execution_count": 27,
   "metadata": {},
   "outputs": [
    {
     "data": {
      "text/html": [
       "<div>\n",
       "<style scoped>\n",
       "    .dataframe tbody tr th:only-of-type {\n",
       "        vertical-align: middle;\n",
       "    }\n",
       "\n",
       "    .dataframe tbody tr th {\n",
       "        vertical-align: top;\n",
       "    }\n",
       "\n",
       "    .dataframe thead th {\n",
       "        text-align: right;\n",
       "    }\n",
       "</style>\n",
       "<table border=\"1\" class=\"dataframe\">\n",
       "  <thead>\n",
       "    <tr style=\"text-align: right;\">\n",
       "      <th></th>\n",
       "      <th>Duration_of_Credit_Month</th>\n",
       "      <th>Credit_Amount</th>\n",
       "      <th>Instalment_per_cent</th>\n",
       "      <th>Most_valuable_available_asset</th>\n",
       "      <th>Age_years</th>\n",
       "    </tr>\n",
       "    <tr>\n",
       "      <th>Account_Balance</th>\n",
       "      <th></th>\n",
       "      <th></th>\n",
       "      <th></th>\n",
       "      <th></th>\n",
       "      <th></th>\n",
       "    </tr>\n",
       "  </thead>\n",
       "  <tbody>\n",
       "    <tr>\n",
       "      <th>No Account</th>\n",
       "      <td>22.618321</td>\n",
       "      <td>3560.492366</td>\n",
       "      <td>2.935115</td>\n",
       "      <td>2.366412</td>\n",
       "      <td>34.770992</td>\n",
       "    </tr>\n",
       "    <tr>\n",
       "      <th>Some Balance</th>\n",
       "      <td>20.130252</td>\n",
       "      <td>2803.113445</td>\n",
       "      <td>3.092437</td>\n",
       "      <td>2.352941</td>\n",
       "      <td>36.457983</td>\n",
       "    </tr>\n",
       "  </tbody>\n",
       "</table>\n",
       "</div>"
      ],
      "text/plain": [
       "                 Duration_of_Credit_Month  Credit_Amount  Instalment_per_cent  \\\n",
       "Account_Balance                                                                 \n",
       "No Account                      22.618321    3560.492366             2.935115   \n",
       "Some Balance                    20.130252    2803.113445             3.092437   \n",
       "\n",
       "                 Most_valuable_available_asset  Age_years  \n",
       "Account_Balance                                            \n",
       "No Account                            2.366412  34.770992  \n",
       "Some Balance                          2.352941  36.457983  "
      ]
     },
     "execution_count": 27,
     "metadata": {},
     "output_type": "execute_result"
    }
   ],
   "source": [
    "data.groupby('Account_Balance').mean()"
   ]
  },
  {
   "cell_type": "code",
   "execution_count": 28,
   "metadata": {
    "scrolled": false
   },
   "outputs": [
    {
     "data": {
      "text/plain": [
       "(array([0, 1]), <a list of 2 Text xticklabel objects>)"
      ]
     },
     "execution_count": 28,
     "metadata": {},
     "output_type": "execute_result"
    },
    {
     "data": {
      "image/png": "[encoded data removed]",
      "text/plain": [
       "<Figure size 432x288 with 1 Axes>"
      ]
     },
     "metadata": {
      "needs_background": "light"
     },
     "output_type": "display_data"
    }
   ],
   "source": [
    "%matplotlib inline\n",
    "pd.crosstab(data['Account_Balance'],data['Credit_Application_Result']).plot(kind='bar')\n",
    "plt.title('Credit Application Frequency for Account Balance')\n",
    "plt.xlabel('Account Balance')\n",
    "plt.ylabel('Frequency of Credit Application')\n",
    "plt.xticks(rotation =360)"
   ]
  },
  {
   "cell_type": "markdown",
   "metadata": {},
   "source": [
    "> The frequency of Credit Application Results depends on whether each customer has some balance on this bank. Thus, the column 'Account_Balance' is a good predictor of the outcome variable."
   ]
  },
  {
   "cell_type": "markdown",
   "metadata": {},
   "source": [
    "<a id='status'></a>\n",
    "### 4. Payment Status of Previous Credit"
   ]
  },
  {
   "cell_type": "code",
   "execution_count": 29,
   "metadata": {},
   "outputs": [
    {
     "data": {
      "text/plain": [
       "Paid Up                       260\n",
       "No Problems (in this bank)    204\n",
       "Some Problems                  36\n",
       "Name: Payment_Status_of_Previous_Credit, dtype: int64"
      ]
     },
     "execution_count": 29,
     "metadata": {},
     "output_type": "execute_result"
    }
   ],
   "source": [
    "data['Payment_Status_of_Previous_Credit'].value_counts()"
   ]
  },
  {
   "cell_type": "code",
   "execution_count": 30,
   "metadata": {},
   "outputs": [
    {
     "data": {
      "text/html": [
       "<div>\n",
       "<style scoped>\n",
       "    .dataframe tbody tr th:only-of-type {\n",
       "        vertical-align: middle;\n",
       "    }\n",
       "\n",
       "    .dataframe tbody tr th {\n",
       "        vertical-align: top;\n",
       "    }\n",
       "\n",
       "    .dataframe thead th {\n",
       "        text-align: right;\n",
       "    }\n",
       "</style>\n",
       "<table border=\"1\" class=\"dataframe\">\n",
       "  <thead>\n",
       "    <tr style=\"text-align: right;\">\n",
       "      <th></th>\n",
       "      <th>Duration_of_Credit_Month</th>\n",
       "      <th>Credit_Amount</th>\n",
       "      <th>Instalment_per_cent</th>\n",
       "      <th>Most_valuable_available_asset</th>\n",
       "      <th>Age_years</th>\n",
       "    </tr>\n",
       "    <tr>\n",
       "      <th>Payment_Status_of_Previous_Credit</th>\n",
       "      <th></th>\n",
       "      <th></th>\n",
       "      <th></th>\n",
       "      <th></th>\n",
       "      <th></th>\n",
       "    </tr>\n",
       "  </thead>\n",
       "  <tbody>\n",
       "    <tr>\n",
       "      <th>No Problems (in this bank)</th>\n",
       "      <td>22.088235</td>\n",
       "      <td>3291.720588</td>\n",
       "      <td>3.058824</td>\n",
       "      <td>2.411765</td>\n",
       "      <td>38.147059</td>\n",
       "    </tr>\n",
       "    <tr>\n",
       "      <th>Paid Up</th>\n",
       "      <td>20.134615</td>\n",
       "      <td>3004.515385</td>\n",
       "      <td>2.965385</td>\n",
       "      <td>2.257692</td>\n",
       "      <td>33.757692</td>\n",
       "    </tr>\n",
       "    <tr>\n",
       "      <th>Some Problems</th>\n",
       "      <td>27.111111</td>\n",
       "      <td>4091.805556</td>\n",
       "      <td>3.055556</td>\n",
       "      <td>2.805556</td>\n",
       "      <td>34.111111</td>\n",
       "    </tr>\n",
       "  </tbody>\n",
       "</table>\n",
       "</div>"
      ],
      "text/plain": [
       "                                   Duration_of_Credit_Month  Credit_Amount  \\\n",
       "Payment_Status_of_Previous_Credit                                            \n",
       "No Problems (in this bank)                        22.088235    3291.720588   \n",
       "Paid Up                                           20.134615    3004.515385   \n",
       "Some Problems                                     27.111111    4091.805556   \n",
       "\n",
       "                                   Instalment_per_cent  \\\n",
       "Payment_Status_of_Previous_Credit                        \n",
       "No Problems (in this bank)                    3.058824   \n",
       "Paid Up                                       2.965385   \n",
       "Some Problems                                 3.055556   \n",
       "\n",
       "                                   Most_valuable_available_asset  Age_years  \n",
       "Payment_Status_of_Previous_Credit                                            \n",
       "No Problems (in this bank)                              2.411765  38.147059  \n",
       "Paid Up                                                 2.257692  33.757692  \n",
       "Some Problems                                           2.805556  34.111111  "
      ]
     },
     "execution_count": 30,
     "metadata": {},
     "output_type": "execute_result"
    }
   ],
   "source": [
    "data.groupby('Payment_Status_of_Previous_Credit').mean()"
   ]
  },
  {
   "cell_type": "code",
   "execution_count": 31,
   "metadata": {
    "scrolled": true
   },
   "outputs": [
    {
     "data": {
      "text/plain": [
       "<matplotlib.legend.Legend at 0x1692e558b48>"
      ]
     },
     "execution_count": 31,
     "metadata": {},
     "output_type": "execute_result"
    },
    {
     "data": {
      "image/png": "[encoded data removed]",
      "text/plain": [
       "<Figure size 432x288 with 1 Axes>"
      ]
     },
     "metadata": {
      "needs_background": "light"
     },
     "output_type": "display_data"
    }
   ],
   "source": [
    "table=pd.crosstab(data['Payment_Status_of_Previous_Credit'],data['Credit_Application_Result'])\n",
    "table.div(table.sum(1).astype(float), axis=0).plot(kind='bar', stacked=True)\n",
    "plt.title('Stacked Bar Chart of Previous Payment Status vs Credit Approval')\n",
    "plt.xlabel('Payment Status of Previous Credit')\n",
    "plt.ylabel('Proportion of Credit Application Result')\n",
    "plt.xticks(rotation =360)\n",
    "plt.legend( bbox_to_anchor = (1, 0.5), loc = 6)"
   ]
  },
  {
   "cell_type": "markdown",
   "metadata": {},
   "source": [
    "> The proportion of Credit Application Results is different whether each credit applicant has some problems or not. The group of people either in 'No Problems (in this bank)' or in 'Paid up' shows little difference. Thus, it would be better that after integrating both groups then it should be used as a predictor of the outcome variable. "
   ]
  },
  {
   "cell_type": "code",
   "execution_count": 32,
   "metadata": {
    "scrolled": false
   },
   "outputs": [],
   "source": [
    "data.Payment_Status_of_Previous_Credit.replace('No Problems (in this bank)', 'No Problems (in this bank) or Paid Up', inplace = True)\n",
    "data.Payment_Status_of_Previous_Credit.replace('Paid Up', 'No Problems (in this bank) or Paid Up', inplace = True)"
   ]
  },
  {
   "cell_type": "code",
   "execution_count": 33,
   "metadata": {
    "scrolled": true
   },
   "outputs": [
    {
     "data": {
      "text/plain": [
       "<matplotlib.legend.Legend at 0x1692e5ead08>"
      ]
     },
     "execution_count": 33,
     "metadata": {},
     "output_type": "execute_result"
    },
    {
     "data": {
      "image/png": "[encoded data removed]",
      "text/plain": [
       "<Figure size 432x288 with 1 Axes>"
      ]
     },
     "metadata": {
      "needs_background": "light"
     },
     "output_type": "display_data"
    }
   ],
   "source": [
    "table=pd.crosstab(data['Payment_Status_of_Previous_Credit'],data['Credit_Application_Result'])\n",
    "table.div(table.sum(1).astype(float), axis=0).plot(kind='bar', stacked=True)\n",
    "plt.title('Stacked Bar Chart of Previous Payment Status vs Credit Approval')\n",
    "plt.xlabel('Payment Status of Previous Credit')\n",
    "plt.ylabel('Proportion of Credit Application Result')\n",
    "plt.xticks(rotation =360)\n",
    "plt.legend( bbox_to_anchor = (1, 0.5), loc = 6)"
   ]
  },
  {
   "cell_type": "markdown",
   "metadata": {},
   "source": [
    "<a id='purpose'></a>\n",
    "### 5. Purpose"
   ]
  },
  {
   "cell_type": "code",
   "execution_count": 34,
   "metadata": {
    "scrolled": true
   },
   "outputs": [
    {
     "data": {
      "text/plain": [
       "Home Related    355\n",
       "Used car         83\n",
       "New car          47\n",
       "Other            15\n",
       "Name: Purpose, dtype: int64"
      ]
     },
     "execution_count": 34,
     "metadata": {},
     "output_type": "execute_result"
    }
   ],
   "source": [
    "data['Purpose'].value_counts()"
   ]
  },
  {
   "cell_type": "code",
   "execution_count": 35,
   "metadata": {},
   "outputs": [
    {
     "data": {
      "text/html": [
       "<div>\n",
       "<style scoped>\n",
       "    .dataframe tbody tr th:only-of-type {\n",
       "        vertical-align: middle;\n",
       "    }\n",
       "\n",
       "    .dataframe tbody tr th {\n",
       "        vertical-align: top;\n",
       "    }\n",
       "\n",
       "    .dataframe thead th {\n",
       "        text-align: right;\n",
       "    }\n",
       "</style>\n",
       "<table border=\"1\" class=\"dataframe\">\n",
       "  <thead>\n",
       "    <tr style=\"text-align: right;\">\n",
       "      <th></th>\n",
       "      <th>Duration_of_Credit_Month</th>\n",
       "      <th>Credit_Amount</th>\n",
       "      <th>Instalment_per_cent</th>\n",
       "      <th>Most_valuable_available_asset</th>\n",
       "      <th>Age_years</th>\n",
       "    </tr>\n",
       "    <tr>\n",
       "      <th>Purpose</th>\n",
       "      <th></th>\n",
       "      <th></th>\n",
       "      <th></th>\n",
       "      <th></th>\n",
       "      <th></th>\n",
       "    </tr>\n",
       "  </thead>\n",
       "  <tbody>\n",
       "    <tr>\n",
       "      <th>Home Related</th>\n",
       "      <td>21.425352</td>\n",
       "      <td>3024.952113</td>\n",
       "      <td>3.090141</td>\n",
       "      <td>2.323944</td>\n",
       "      <td>35.963380</td>\n",
       "    </tr>\n",
       "    <tr>\n",
       "      <th>New car</th>\n",
       "      <td>26.191489</td>\n",
       "      <td>5200.255319</td>\n",
       "      <td>2.680851</td>\n",
       "      <td>2.851064</td>\n",
       "      <td>37.936170</td>\n",
       "    </tr>\n",
       "    <tr>\n",
       "      <th>Other</th>\n",
       "      <td>20.000000</td>\n",
       "      <td>3271.066667</td>\n",
       "      <td>3.333333</td>\n",
       "      <td>2.066667</td>\n",
       "      <td>34.600000</td>\n",
       "    </tr>\n",
       "    <tr>\n",
       "      <th>Used car</th>\n",
       "      <td>19.036145</td>\n",
       "      <td>2803.060241</td>\n",
       "      <td>2.795181</td>\n",
       "      <td>2.289157</td>\n",
       "      <td>32.746988</td>\n",
       "    </tr>\n",
       "  </tbody>\n",
       "</table>\n",
       "</div>"
      ],
      "text/plain": [
       "              Duration_of_Credit_Month  Credit_Amount  Instalment_per_cent  \\\n",
       "Purpose                                                                      \n",
       "Home Related                 21.425352    3024.952113             3.090141   \n",
       "New car                      26.191489    5200.255319             2.680851   \n",
       "Other                        20.000000    3271.066667             3.333333   \n",
       "Used car                     19.036145    2803.060241             2.795181   \n",
       "\n",
       "              Most_valuable_available_asset  Age_years  \n",
       "Purpose                                                 \n",
       "Home Related                       2.323944  35.963380  \n",
       "New car                            2.851064  37.936170  \n",
       "Other                              2.066667  34.600000  \n",
       "Used car                           2.289157  32.746988  "
      ]
     },
     "execution_count": 35,
     "metadata": {},
     "output_type": "execute_result"
    }
   ],
   "source": [
    "data.groupby('Purpose').mean()"
   ]
  },
  {
   "cell_type": "code",
   "execution_count": 36,
   "metadata": {
    "scrolled": true
   },
   "outputs": [
    {
     "data": {
      "text/plain": [
       "Text(0, 0.5, 'Frequency of Credit Application')"
      ]
     },
     "execution_count": 36,
     "metadata": {},
     "output_type": "execute_result"
    },
    {
     "data": {
      "image/png": "[encoded data removed]",
      "text/plain": [
       "<Figure size 432x288 with 1 Axes>"
      ]
     },
     "metadata": {
      "needs_background": "light"
     },
     "output_type": "display_data"
    }
   ],
   "source": [
    "purpose_order=['Home Related', 'Used car','New car', 'Other']\n",
    "sns.countplot(data = data, x = 'Purpose', hue = 'Credit_Application_Result',order = purpose_order)\n",
    "plt.title('Credit Application Frequency for Purpose')\n",
    "plt.xlabel('Purpose')\n",
    "plt.ylabel('Frequency of Credit Application')"
   ]
  },
  {
   "cell_type": "markdown",
   "metadata": {},
   "source": [
    "> The frequency of Credit Application Results depends on the purpose of credits. Thus, the column 'Purpose' is a good predictor of the outcome variable."
   ]
  },
  {
   "cell_type": "markdown",
   "metadata": {},
   "source": [
    "<a id='value'></a>\n",
    "### 6. Value Savings Stocks"
   ]
  },
  {
   "cell_type": "code",
   "execution_count": 37,
   "metadata": {
    "scrolled": false
   },
   "outputs": [
    {
     "data": {
      "text/plain": [
       "None          298\n",
       "£100-£1000    154\n",
       "< £100         48\n",
       "Name: Value_Savings_Stocks, dtype: int64"
      ]
     },
     "execution_count": 37,
     "metadata": {},
     "output_type": "execute_result"
    }
   ],
   "source": [
    "data['Value_Savings_Stocks'].value_counts()"
   ]
  },
  {
   "cell_type": "code",
   "execution_count": 38,
   "metadata": {},
   "outputs": [
    {
     "data": {
      "text/html": [
       "<div>\n",
       "<style scoped>\n",
       "    .dataframe tbody tr th:only-of-type {\n",
       "        vertical-align: middle;\n",
       "    }\n",
       "\n",
       "    .dataframe tbody tr th {\n",
       "        vertical-align: top;\n",
       "    }\n",
       "\n",
       "    .dataframe thead th {\n",
       "        text-align: right;\n",
       "    }\n",
       "</style>\n",
       "<table border=\"1\" class=\"dataframe\">\n",
       "  <thead>\n",
       "    <tr style=\"text-align: right;\">\n",
       "      <th></th>\n",
       "      <th>Duration_of_Credit_Month</th>\n",
       "      <th>Credit_Amount</th>\n",
       "      <th>Instalment_per_cent</th>\n",
       "      <th>Most_valuable_available_asset</th>\n",
       "      <th>Age_years</th>\n",
       "    </tr>\n",
       "    <tr>\n",
       "      <th>Value_Savings_Stocks</th>\n",
       "      <th></th>\n",
       "      <th></th>\n",
       "      <th></th>\n",
       "      <th></th>\n",
       "      <th></th>\n",
       "    </tr>\n",
       "  </thead>\n",
       "  <tbody>\n",
       "    <tr>\n",
       "      <th>&lt; £100</th>\n",
       "      <td>23.208333</td>\n",
       "      <td>3272.187500</td>\n",
       "      <td>3.104167</td>\n",
       "      <td>2.729167</td>\n",
       "      <td>33.895833</td>\n",
       "    </tr>\n",
       "    <tr>\n",
       "      <th>None</th>\n",
       "      <td>21.265101</td>\n",
       "      <td>3214.137584</td>\n",
       "      <td>2.986577</td>\n",
       "      <td>2.328859</td>\n",
       "      <td>35.338926</td>\n",
       "    </tr>\n",
       "    <tr>\n",
       "      <th>£100-£1000</th>\n",
       "      <td>21.207792</td>\n",
       "      <td>3150.077922</td>\n",
       "      <td>3.025974</td>\n",
       "      <td>2.305195</td>\n",
       "      <td>36.551948</td>\n",
       "    </tr>\n",
       "  </tbody>\n",
       "</table>\n",
       "</div>"
      ],
      "text/plain": [
       "                      Duration_of_Credit_Month  Credit_Amount  \\\n",
       "Value_Savings_Stocks                                            \n",
       "< £100                               23.208333    3272.187500   \n",
       "None                                 21.265101    3214.137584   \n",
       "£100-£1000                           21.207792    3150.077922   \n",
       "\n",
       "                      Instalment_per_cent  Most_valuable_available_asset  \\\n",
       "Value_Savings_Stocks                                                       \n",
       "< £100                           3.104167                       2.729167   \n",
       "None                             2.986577                       2.328859   \n",
       "£100-£1000                       3.025974                       2.305195   \n",
       "\n",
       "                      Age_years  \n",
       "Value_Savings_Stocks             \n",
       "< £100                33.895833  \n",
       "None                  35.338926  \n",
       "£100-£1000            36.551948  "
      ]
     },
     "execution_count": 38,
     "metadata": {},
     "output_type": "execute_result"
    }
   ],
   "source": [
    "data.groupby('Value_Savings_Stocks').mean()"
   ]
  },
  {
   "cell_type": "code",
   "execution_count": 39,
   "metadata": {
    "scrolled": false
   },
   "outputs": [
    {
     "data": {
      "text/plain": [
       "array(['£100-£1000', 'None', '< £100'], dtype=object)"
      ]
     },
     "execution_count": 39,
     "metadata": {},
     "output_type": "execute_result"
    }
   ],
   "source": [
    "data['Value_Savings_Stocks'].unique()"
   ]
  },
  {
   "cell_type": "code",
   "execution_count": 40,
   "metadata": {
    "scrolled": false
   },
   "outputs": [
    {
     "data": {
      "text/plain": [
       "Text(0, 0.5, 'Proportion of Credit Application Results')"
      ]
     },
     "execution_count": 40,
     "metadata": {},
     "output_type": "execute_result"
    },
    {
     "data": {
      "image/png": "[encoded data removed]",
      "text/plain": [
       "<Figure size 432x288 with 1 Axes>"
      ]
     },
     "metadata": {
      "needs_background": "light"
     },
     "output_type": "display_data"
    }
   ],
   "source": [
    "stocks_order = ['None', '< £100', '£100-£1000' ] # The order of Value_Savings_Stocks\n",
    "credit_order = ['Creditworthy', 'Non-Creditworthy'] # The order of Credit_Application_Result\n",
    "\n",
    "artists = [] # For storing references to plot elements\n",
    "baselines = np.zeros(len(stocks_order))\n",
    "stocks_counts = data['Value_Savings_Stocks'].value_counts()\n",
    "\n",
    "# For each second-variable category:\n",
    "for i in range(len(credit_order)):\n",
    "    # isolate the counts of the first category,\n",
    "    cat_credit= credit_order[i]\n",
    "    inner_counts = data[data['Credit_Application_Result'] == cat_credit]['Value_Savings_Stocks'].value_counts()\n",
    "    inner_props = inner_counts / stocks_counts\n",
    "    # then plot those counts on top of the accumulated baseline\n",
    "    bars = plt.bar(x = np.arange(len(stocks_order)),\n",
    "                   height = inner_props[stocks_order],\n",
    "                   bottom = baselines)\n",
    "    artists.append(bars)\n",
    "    baselines += inner_props[stocks_order]\n",
    "\n",
    "plt.xticks(np.arange(len(stocks_order)), stocks_order)\n",
    "plt.legend(reversed(artists), reversed(credit_order), framealpha = 1,\n",
    "           bbox_to_anchor = (1, 0.5), loc = 6);\n",
    "\n",
    "plt.title('Credit Application Frequency for Savings Stocks')\n",
    "plt.xlabel('Value Savings Stocks')\n",
    "plt.ylabel('Proportion of Credit Application Results')"
   ]
  },
  {
   "cell_type": "markdown",
   "metadata": {},
   "source": [
    "> We should note that the column \"Value_Savings_Stocks\" is a categorical variable, and also the ordinal variable. The proportion of Creditworthy gets increasing as the value of saving stocks larger. The column is a good predictor of the outcome variable. "
   ]
  },
  {
   "cell_type": "markdown",
   "metadata": {},
   "source": [
    "<a id='length'></a>\n",
    "### 7. Length of current employment"
   ]
  },
  {
   "cell_type": "code",
   "execution_count": 41,
   "metadata": {},
   "outputs": [
    {
     "data": {
      "text/plain": [
       "< 1yr      279\n",
       "4-7 yrs    124\n",
       "1-4 yrs     97\n",
       "Name: Length_of_current_employment, dtype: int64"
      ]
     },
     "execution_count": 41,
     "metadata": {},
     "output_type": "execute_result"
    }
   ],
   "source": [
    "data['Length_of_current_employment'].value_counts()"
   ]
  },
  {
   "cell_type": "code",
   "execution_count": 42,
   "metadata": {
    "scrolled": true
   },
   "outputs": [
    {
     "data": {
      "text/html": [
       "<div>\n",
       "<style scoped>\n",
       "    .dataframe tbody tr th:only-of-type {\n",
       "        vertical-align: middle;\n",
       "    }\n",
       "\n",
       "    .dataframe tbody tr th {\n",
       "        vertical-align: top;\n",
       "    }\n",
       "\n",
       "    .dataframe thead th {\n",
       "        text-align: right;\n",
       "    }\n",
       "</style>\n",
       "<table border=\"1\" class=\"dataframe\">\n",
       "  <thead>\n",
       "    <tr style=\"text-align: right;\">\n",
       "      <th></th>\n",
       "      <th>Duration_of_Credit_Month</th>\n",
       "      <th>Credit_Amount</th>\n",
       "      <th>Instalment_per_cent</th>\n",
       "      <th>Most_valuable_available_asset</th>\n",
       "      <th>Age_years</th>\n",
       "    </tr>\n",
       "    <tr>\n",
       "      <th>Length_of_current_employment</th>\n",
       "      <th></th>\n",
       "      <th></th>\n",
       "      <th></th>\n",
       "      <th></th>\n",
       "      <th></th>\n",
       "    </tr>\n",
       "  </thead>\n",
       "  <tbody>\n",
       "    <tr>\n",
       "      <th>1-4 yrs</th>\n",
       "      <td>21.402062</td>\n",
       "      <td>2835.649485</td>\n",
       "      <td>3.051546</td>\n",
       "      <td>2.402062</td>\n",
       "      <td>32.639175</td>\n",
       "    </tr>\n",
       "    <tr>\n",
       "      <th>4-7 yrs</th>\n",
       "      <td>21.669355</td>\n",
       "      <td>3168.129032</td>\n",
       "      <td>3.306452</td>\n",
       "      <td>2.604839</td>\n",
       "      <td>43.000000</td>\n",
       "    </tr>\n",
       "    <tr>\n",
       "      <th>&lt; 1yr</th>\n",
       "      <td>21.340502</td>\n",
       "      <td>3340.802867</td>\n",
       "      <td>2.863799</td>\n",
       "      <td>2.236559</td>\n",
       "      <td>33.293907</td>\n",
       "    </tr>\n",
       "  </tbody>\n",
       "</table>\n",
       "</div>"
      ],
      "text/plain": [
       "                              Duration_of_Credit_Month  Credit_Amount  \\\n",
       "Length_of_current_employment                                            \n",
       "1-4 yrs                                      21.402062    2835.649485   \n",
       "4-7 yrs                                      21.669355    3168.129032   \n",
       "< 1yr                                        21.340502    3340.802867   \n",
       "\n",
       "                              Instalment_per_cent  \\\n",
       "Length_of_current_employment                        \n",
       "1-4 yrs                                  3.051546   \n",
       "4-7 yrs                                  3.306452   \n",
       "< 1yr                                    2.863799   \n",
       "\n",
       "                              Most_valuable_available_asset  Age_years  \n",
       "Length_of_current_employment                                            \n",
       "1-4 yrs                                            2.402062  32.639175  \n",
       "4-7 yrs                                            2.604839  43.000000  \n",
       "< 1yr                                              2.236559  33.293907  "
      ]
     },
     "execution_count": 42,
     "metadata": {},
     "output_type": "execute_result"
    }
   ],
   "source": [
    "data.groupby('Length_of_current_employment').mean()"
   ]
  },
  {
   "cell_type": "code",
   "execution_count": 43,
   "metadata": {},
   "outputs": [
    {
     "data": {
      "text/plain": [
       "array(['< 1yr', '1-4 yrs', '4-7 yrs'], dtype=object)"
      ]
     },
     "execution_count": 43,
     "metadata": {},
     "output_type": "execute_result"
    }
   ],
   "source": [
    "data['Length_of_current_employment'].unique()"
   ]
  },
  {
   "cell_type": "code",
   "execution_count": 44,
   "metadata": {},
   "outputs": [
    {
     "data": {
      "text/plain": [
       "Text(0, 0.5, 'Proportion of Credit Application Results')"
      ]
     },
     "execution_count": 44,
     "metadata": {},
     "output_type": "execute_result"
    },
    {
     "data": {
      "image/png": "[encoded data removed]",
      "text/plain": [
       "<Figure size 432x288 with 1 Axes>"
      ]
     },
     "metadata": {
      "needs_background": "light"
     },
     "output_type": "display_data"
    }
   ],
   "source": [
    "length_order = ['< 1yr', '1-4 yrs', '4-7 yrs'] # The order of Length_of_current_employment\n",
    "credit_order = ['Creditworthy', 'Non-Creditworthy'] # The order of Credit_Application_Result\n",
    "\n",
    "artists = [] # for storing references to plot elements\n",
    "baselines = np.zeros(len(length_order))\n",
    "length_counts = data['Length_of_current_employment'].value_counts()\n",
    "\n",
    "# for each second-variable category:\n",
    "for i in range(len(credit_order)):\n",
    "    # isolate the counts of the first category,\n",
    "    credit = credit_order[i]\n",
    "    inner_counts = data[data['Credit_Application_Result'] == credit]['Length_of_current_employment'].value_counts()\n",
    "    inner_props = inner_counts / length_counts\n",
    "    # then plot those counts on top of the accumulated baseline\n",
    "    bars = plt.bar(x = np.arange(len(length_order)),\n",
    "                   height = inner_props[length_order],\n",
    "                   bottom = baselines)\n",
    "    artists.append(bars)\n",
    "    baselines += inner_props[length_order]\n",
    "\n",
    "plt.xticks(np.arange(len(length_order)), length_order)\n",
    "plt.legend(reversed(artists), reversed(credit_order), framealpha = 1,\n",
    "           bbox_to_anchor = (1, 0.5), loc = 6);\n",
    "\n",
    "plt.title('Credit Application Frequency for Employment Length')\n",
    "plt.xlabel('Length of Current Employment')\n",
    "plt.ylabel('Proportion of Credit Application Results')"
   ]
  },
  {
   "cell_type": "markdown",
   "metadata": {},
   "source": [
    "> The column \"Length_of_current_employment\" is a categorical variable, and also the ordinal variable. Although any particular tendency can be recognized from the visualizations, we can notice that the percentage of being creditworthy for employment less than 1 year is weigh lower than the customers with longer employment. Thus, it would be better using  the input as a predictor after integrating  both groups (i.e. '1-4 yrs' and '4-7 yrs')."
   ]
  },
  {
   "cell_type": "code",
   "execution_count": 45,
   "metadata": {},
   "outputs": [],
   "source": [
    "data.Length_of_current_employment.replace('1-4 yrs', 'longer than 1 yrs employment', inplace = True)\n",
    "data.Length_of_current_employment.replace('4-7 yrs', 'longer than 1 yrs employment', inplace = True)"
   ]
  },
  {
   "cell_type": "code",
   "execution_count": 46,
   "metadata": {},
   "outputs": [
    {
     "data": {
      "text/plain": [
       "<matplotlib.legend.Legend at 0x1692ec5d788>"
      ]
     },
     "execution_count": 46,
     "metadata": {},
     "output_type": "execute_result"
    },
    {
     "data": {
      "image/png": "[encoded data removed]",
      "text/plain": [
       "<Figure size 432x288 with 1 Axes>"
      ]
     },
     "metadata": {
      "needs_background": "light"
     },
     "output_type": "display_data"
    }
   ],
   "source": [
    "table=pd.crosstab(data['Length_of_current_employment'],data['Credit_Application_Result'])\n",
    "table.div(table.sum(1).astype(float), axis=0).plot(kind='bar', stacked=True)\n",
    "plt.title('Credit Application Frequency for Employment Length')\n",
    "plt.xlabel('Length of Current Employment')\n",
    "plt.ylabel('Proportion of Credit Application Result')\n",
    "plt.xticks(rotation =360)\n",
    "plt.legend( bbox_to_anchor = (1, 0.5), loc = 6)"
   ]
  },
  {
   "cell_type": "markdown",
   "metadata": {},
   "source": [
    "<a id='apartment'></a>\n",
    "### 8. Types of Apartment"
   ]
  },
  {
   "cell_type": "code",
   "execution_count": 47,
   "metadata": {
    "scrolled": true
   },
   "outputs": [
    {
     "data": {
      "text/plain": [
       "2    352\n",
       "1     92\n",
       "3     56\n",
       "Name: Type_of_apartment, dtype: int64"
      ]
     },
     "execution_count": 47,
     "metadata": {},
     "output_type": "execute_result"
    }
   ],
   "source": [
    "data['Type_of_apartment'].value_counts()"
   ]
  },
  {
   "cell_type": "code",
   "execution_count": 48,
   "metadata": {},
   "outputs": [
    {
     "data": {
      "text/html": [
       "<div>\n",
       "<style scoped>\n",
       "    .dataframe tbody tr th:only-of-type {\n",
       "        vertical-align: middle;\n",
       "    }\n",
       "\n",
       "    .dataframe tbody tr th {\n",
       "        vertical-align: top;\n",
       "    }\n",
       "\n",
       "    .dataframe thead th {\n",
       "        text-align: right;\n",
       "    }\n",
       "</style>\n",
       "<table border=\"1\" class=\"dataframe\">\n",
       "  <thead>\n",
       "    <tr style=\"text-align: right;\">\n",
       "      <th></th>\n",
       "      <th>Duration_of_Credit_Month</th>\n",
       "      <th>Credit_Amount</th>\n",
       "      <th>Instalment_per_cent</th>\n",
       "      <th>Most_valuable_available_asset</th>\n",
       "      <th>Age_years</th>\n",
       "    </tr>\n",
       "    <tr>\n",
       "      <th>Type_of_apartment</th>\n",
       "      <th></th>\n",
       "      <th></th>\n",
       "      <th></th>\n",
       "      <th></th>\n",
       "      <th></th>\n",
       "    </tr>\n",
       "  </thead>\n",
       "  <tbody>\n",
       "    <tr>\n",
       "      <th>1</th>\n",
       "      <td>20.293478</td>\n",
       "      <td>3072.934783</td>\n",
       "      <td>2.869565</td>\n",
       "      <td>2.173913</td>\n",
       "      <td>30.434783</td>\n",
       "    </tr>\n",
       "    <tr>\n",
       "      <th>2</th>\n",
       "      <td>20.593750</td>\n",
       "      <td>2897.894886</td>\n",
       "      <td>3.019886</td>\n",
       "      <td>2.153409</td>\n",
       "      <td>35.394886</td>\n",
       "    </tr>\n",
       "    <tr>\n",
       "      <th>3</th>\n",
       "      <td>28.589286</td>\n",
       "      <td>5307.517857</td>\n",
       "      <td>3.178571</td>\n",
       "      <td>3.964286</td>\n",
       "      <td>45.142857</td>\n",
       "    </tr>\n",
       "  </tbody>\n",
       "</table>\n",
       "</div>"
      ],
      "text/plain": [
       "                   Duration_of_Credit_Month  Credit_Amount  \\\n",
       "Type_of_apartment                                            \n",
       "1                                 20.293478    3072.934783   \n",
       "2                                 20.593750    2897.894886   \n",
       "3                                 28.589286    5307.517857   \n",
       "\n",
       "                   Instalment_per_cent  Most_valuable_available_asset  \\\n",
       "Type_of_apartment                                                       \n",
       "1                             2.869565                       2.173913   \n",
       "2                             3.019886                       2.153409   \n",
       "3                             3.178571                       3.964286   \n",
       "\n",
       "                   Age_years  \n",
       "Type_of_apartment             \n",
       "1                  30.434783  \n",
       "2                  35.394886  \n",
       "3                  45.142857  "
      ]
     },
     "execution_count": 48,
     "metadata": {},
     "output_type": "execute_result"
    }
   ],
   "source": [
    "data.groupby('Type_of_apartment').mean()"
   ]
  },
  {
   "cell_type": "code",
   "execution_count": 49,
   "metadata": {},
   "outputs": [
    {
     "data": {
      "text/plain": [
       "<matplotlib.legend.Legend at 0x1692edb4848>"
      ]
     },
     "execution_count": 49,
     "metadata": {},
     "output_type": "execute_result"
    },
    {
     "data": {
      "image/png": "[encoded data removed]",
      "text/plain": [
       "<Figure size 432x288 with 1 Axes>"
      ]
     },
     "metadata": {
      "needs_background": "light"
     },
     "output_type": "display_data"
    }
   ],
   "source": [
    "table=pd.crosstab(data['Type_of_apartment'],data['Credit_Application_Result'])\n",
    "table.div(table.sum(1).astype(float), axis=0).plot(kind='bar', stacked=True)\n",
    "plt.title('Credit Application Frequency for Apartment Types')\n",
    "plt.xlabel('Apartment Type')\n",
    "plt.ylabel('Proportion of Credit Application Result')\n",
    "plt.xticks(rotation =360)\n",
    "plt.legend( bbox_to_anchor = (1, 0.5), loc = 6)"
   ]
  },
  {
   "cell_type": "markdown",
   "metadata": {},
   "source": [
    "> The detail information about each type of apartment type is unknown. However according to the data, we can speculate that Type3 is more expensive apartment comparing to others. The average credit durations of Type3 is longer, the average credit amount of the type is much larger, and therefore its instalment percentage is higher. Average age of customers whose apartment type is '3' is 10-15 years older than the customers in Apartment Type 2 or 3."
   ]
  },
  {
   "cell_type": "markdown",
   "metadata": {},
   "source": [
    "<a id='no_Credits'></a>\n",
    "### 9. Number of Credits at this Bank"
   ]
  },
  {
   "cell_type": "code",
   "execution_count": 50,
   "metadata": {
    "scrolled": true
   },
   "outputs": [
    {
     "data": {
      "text/plain": [
       "1              320\n",
       "More than 1    180\n",
       "Name: No_of_Credits_at_this_Bank, dtype: int64"
      ]
     },
     "execution_count": 50,
     "metadata": {},
     "output_type": "execute_result"
    }
   ],
   "source": [
    "data['No_of_Credits_at_this_Bank'].value_counts()"
   ]
  },
  {
   "cell_type": "code",
   "execution_count": 51,
   "metadata": {
    "scrolled": true
   },
   "outputs": [
    {
     "data": {
      "text/html": [
       "<div>\n",
       "<style scoped>\n",
       "    .dataframe tbody tr th:only-of-type {\n",
       "        vertical-align: middle;\n",
       "    }\n",
       "\n",
       "    .dataframe tbody tr th {\n",
       "        vertical-align: top;\n",
       "    }\n",
       "\n",
       "    .dataframe thead th {\n",
       "        text-align: right;\n",
       "    }\n",
       "</style>\n",
       "<table border=\"1\" class=\"dataframe\">\n",
       "  <thead>\n",
       "    <tr style=\"text-align: right;\">\n",
       "      <th></th>\n",
       "      <th>Duration_of_Credit_Month</th>\n",
       "      <th>Credit_Amount</th>\n",
       "      <th>Instalment_per_cent</th>\n",
       "      <th>Most_valuable_available_asset</th>\n",
       "      <th>Age_years</th>\n",
       "    </tr>\n",
       "    <tr>\n",
       "      <th>No_of_Credits_at_this_Bank</th>\n",
       "      <th></th>\n",
       "      <th></th>\n",
       "      <th></th>\n",
       "      <th></th>\n",
       "      <th></th>\n",
       "    </tr>\n",
       "  </thead>\n",
       "  <tbody>\n",
       "    <tr>\n",
       "      <th>1</th>\n",
       "      <td>21.615625</td>\n",
       "      <td>3314.081250</td>\n",
       "      <td>2.962500</td>\n",
       "      <td>2.340625</td>\n",
       "      <td>34.515625</td>\n",
       "    </tr>\n",
       "    <tr>\n",
       "      <th>More than 1</th>\n",
       "      <td>21.111111</td>\n",
       "      <td>2997.133333</td>\n",
       "      <td>3.094444</td>\n",
       "      <td>2.394444</td>\n",
       "      <td>37.455556</td>\n",
       "    </tr>\n",
       "  </tbody>\n",
       "</table>\n",
       "</div>"
      ],
      "text/plain": [
       "                            Duration_of_Credit_Month  Credit_Amount  \\\n",
       "No_of_Credits_at_this_Bank                                            \n",
       "1                                          21.615625    3314.081250   \n",
       "More than 1                                21.111111    2997.133333   \n",
       "\n",
       "                            Instalment_per_cent  \\\n",
       "No_of_Credits_at_this_Bank                        \n",
       "1                                      2.962500   \n",
       "More than 1                            3.094444   \n",
       "\n",
       "                            Most_valuable_available_asset  Age_years  \n",
       "No_of_Credits_at_this_Bank                                            \n",
       "1                                                2.340625  34.515625  \n",
       "More than 1                                      2.394444  37.455556  "
      ]
     },
     "execution_count": 51,
     "metadata": {},
     "output_type": "execute_result"
    }
   ],
   "source": [
    "data.groupby('No_of_Credits_at_this_Bank').mean()"
   ]
  },
  {
   "cell_type": "code",
   "execution_count": 52,
   "metadata": {
    "scrolled": true
   },
   "outputs": [
    {
     "data": {
      "text/plain": [
       "<matplotlib.legend.Legend at 0x1692edb5788>"
      ]
     },
     "execution_count": 52,
     "metadata": {},
     "output_type": "execute_result"
    },
    {
     "data": {
      "image/png": "[encoded data removed]",
      "text/plain": [
       "<Figure size 432x288 with 1 Axes>"
      ]
     },
     "metadata": {
      "needs_background": "light"
     },
     "output_type": "display_data"
    }
   ],
   "source": [
    "table=pd.crosstab(data['No_of_Credits_at_this_Bank'],data['Credit_Application_Result'])\n",
    "table.div(table.sum(1).astype(float), axis=0).plot(kind='bar', stacked=True)\n",
    "plt.title('Stacked Bar Chart of Number of Credits (at this Bank) vs Credit Approval')\n",
    "plt.xlabel('Number of Credits at this Bank')\n",
    "plt.ylabel('Proportion of Credit Application Result')\n",
    "plt.xticks(rotation =360)\n",
    "plt.legend( bbox_to_anchor = (1, 0.5), loc = 6)"
   ]
  },
  {
   "cell_type": "markdown",
   "metadata": {},
   "source": [
    "> Finally I compare the customers who has only one credit with the customers with more than one credits at this bank. The customers with one credit only take more credit amount on average with lower instalment percentage. On the other hand, customers with more than one credits at this bank are more likely to be determined as creditworthy customers. Their available assets are a little bit higher than the other. This feature is regarded as a good predictor of the target variable."
   ]
  },
  {
   "cell_type": "markdown",
   "metadata": {},
   "source": [
    "> So far, we've conducted Data Cleaning and Data Exploration. Based on the cleaned dataset, I will continue the analysis using classification models in Part2. "
   ]
  },
  {
   "cell_type": "code",
   "execution_count": 53,
   "metadata": {
    "scrolled": true
   },
   "outputs": [
    {
     "data": {
      "text/html": [
       "<div>\n",
       "<style scoped>\n",
       "    .dataframe tbody tr th:only-of-type {\n",
       "        vertical-align: middle;\n",
       "    }\n",
       "\n",
       "    .dataframe tbody tr th {\n",
       "        vertical-align: top;\n",
       "    }\n",
       "\n",
       "    .dataframe thead th {\n",
       "        text-align: right;\n",
       "    }\n",
       "</style>\n",
       "<table border=\"1\" class=\"dataframe\">\n",
       "  <thead>\n",
       "    <tr style=\"text-align: right;\">\n",
       "      <th></th>\n",
       "      <th>Credit_Application_Result</th>\n",
       "      <th>Account_Balance</th>\n",
       "      <th>Duration_of_Credit_Month</th>\n",
       "      <th>Payment_Status_of_Previous_Credit</th>\n",
       "      <th>Purpose</th>\n",
       "      <th>Credit_Amount</th>\n",
       "      <th>Value_Savings_Stocks</th>\n",
       "      <th>Length_of_current_employment</th>\n",
       "      <th>Instalment_per_cent</th>\n",
       "      <th>Most_valuable_available_asset</th>\n",
       "      <th>Age_years</th>\n",
       "      <th>Type_of_apartment</th>\n",
       "      <th>No_of_Credits_at_this_Bank</th>\n",
       "    </tr>\n",
       "  </thead>\n",
       "  <tbody>\n",
       "    <tr>\n",
       "      <th>0</th>\n",
       "      <td>Creditworthy</td>\n",
       "      <td>Some Balance</td>\n",
       "      <td>4</td>\n",
       "      <td>No Problems (in this bank) or Paid Up</td>\n",
       "      <td>Other</td>\n",
       "      <td>1494</td>\n",
       "      <td>£100-£1000</td>\n",
       "      <td>&lt; 1yr</td>\n",
       "      <td>1</td>\n",
       "      <td>1</td>\n",
       "      <td>33.0</td>\n",
       "      <td>2</td>\n",
       "      <td>1</td>\n",
       "    </tr>\n",
       "    <tr>\n",
       "      <th>1</th>\n",
       "      <td>Creditworthy</td>\n",
       "      <td>Some Balance</td>\n",
       "      <td>4</td>\n",
       "      <td>No Problems (in this bank) or Paid Up</td>\n",
       "      <td>Home Related</td>\n",
       "      <td>1494</td>\n",
       "      <td>£100-£1000</td>\n",
       "      <td>&lt; 1yr</td>\n",
       "      <td>1</td>\n",
       "      <td>1</td>\n",
       "      <td>29.0</td>\n",
       "      <td>2</td>\n",
       "      <td>1</td>\n",
       "    </tr>\n",
       "    <tr>\n",
       "      <th>2</th>\n",
       "      <td>Creditworthy</td>\n",
       "      <td>Some Balance</td>\n",
       "      <td>4</td>\n",
       "      <td>No Problems (in this bank) or Paid Up</td>\n",
       "      <td>Home Related</td>\n",
       "      <td>1544</td>\n",
       "      <td>None</td>\n",
       "      <td>longer than 1 yrs employment</td>\n",
       "      <td>2</td>\n",
       "      <td>1</td>\n",
       "      <td>42.0</td>\n",
       "      <td>2</td>\n",
       "      <td>More than 1</td>\n",
       "    </tr>\n",
       "    <tr>\n",
       "      <th>3</th>\n",
       "      <td>Creditworthy</td>\n",
       "      <td>Some Balance</td>\n",
       "      <td>4</td>\n",
       "      <td>No Problems (in this bank) or Paid Up</td>\n",
       "      <td>Home Related</td>\n",
       "      <td>3380</td>\n",
       "      <td>None</td>\n",
       "      <td>longer than 1 yrs employment</td>\n",
       "      <td>1</td>\n",
       "      <td>1</td>\n",
       "      <td>37.0</td>\n",
       "      <td>2</td>\n",
       "      <td>1</td>\n",
       "    </tr>\n",
       "    <tr>\n",
       "      <th>4</th>\n",
       "      <td>Creditworthy</td>\n",
       "      <td>No Account</td>\n",
       "      <td>6</td>\n",
       "      <td>No Problems (in this bank) or Paid Up</td>\n",
       "      <td>Home Related</td>\n",
       "      <td>343</td>\n",
       "      <td>None</td>\n",
       "      <td>&lt; 1yr</td>\n",
       "      <td>4</td>\n",
       "      <td>1</td>\n",
       "      <td>27.0</td>\n",
       "      <td>2</td>\n",
       "      <td>1</td>\n",
       "    </tr>\n",
       "  </tbody>\n",
       "</table>\n",
       "</div>"
      ],
      "text/plain": [
       "  Credit_Application_Result Account_Balance  Duration_of_Credit_Month  \\\n",
       "0              Creditworthy    Some Balance                         4   \n",
       "1              Creditworthy    Some Balance                         4   \n",
       "2              Creditworthy    Some Balance                         4   \n",
       "3              Creditworthy    Some Balance                         4   \n",
       "4              Creditworthy      No Account                         6   \n",
       "\n",
       "       Payment_Status_of_Previous_Credit       Purpose  Credit_Amount  \\\n",
       "0  No Problems (in this bank) or Paid Up         Other           1494   \n",
       "1  No Problems (in this bank) or Paid Up  Home Related           1494   \n",
       "2  No Problems (in this bank) or Paid Up  Home Related           1544   \n",
       "3  No Problems (in this bank) or Paid Up  Home Related           3380   \n",
       "4  No Problems (in this bank) or Paid Up  Home Related            343   \n",
       "\n",
       "  Value_Savings_Stocks  Length_of_current_employment  Instalment_per_cent  \\\n",
       "0           £100-£1000                         < 1yr                    1   \n",
       "1           £100-£1000                         < 1yr                    1   \n",
       "2                 None  longer than 1 yrs employment                    2   \n",
       "3                 None  longer than 1 yrs employment                    1   \n",
       "4                 None                         < 1yr                    4   \n",
       "\n",
       "   Most_valuable_available_asset  Age_years Type_of_apartment  \\\n",
       "0                              1       33.0                 2   \n",
       "1                              1       29.0                 2   \n",
       "2                              1       42.0                 2   \n",
       "3                              1       37.0                 2   \n",
       "4                              1       27.0                 2   \n",
       "\n",
       "  No_of_Credits_at_this_Bank  \n",
       "0                          1  \n",
       "1                          1  \n",
       "2                More than 1  \n",
       "3                          1  \n",
       "4                          1  "
      ]
     },
     "execution_count": 53,
     "metadata": {},
     "output_type": "execute_result"
    }
   ],
   "source": [
    "data.head()"
   ]
  },
  {
   "cell_type": "code",
   "execution_count": 54,
   "metadata": {},
   "outputs": [],
   "source": [
    "data.to_excel('credit-data-training-cleaned.xlsx', index = False)"
   ]
  }
 ],
 "metadata": {
  "kernelspec": {
   "display_name": "Python 3",
   "language": "python",
   "name": "python3"
  },
  "language_info": {
   "codemirror_mode": {
    "name": "ipython",
    "version": 3
   },
   "file_extension": ".py",
   "mimetype": "text/x-python",
   "name": "python",
   "nbconvert_exporter": "python",
   "pygments_lexer": "ipython3",
   "version": "3.7.6"
  }
 },
 "nbformat": 4,
 "nbformat_minor": 4
}
